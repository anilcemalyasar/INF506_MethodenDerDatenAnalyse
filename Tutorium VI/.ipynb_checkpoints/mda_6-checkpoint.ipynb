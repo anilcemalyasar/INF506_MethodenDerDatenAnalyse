{
 "cells": [
  {
   "cell_type": "code",
   "execution_count": 1,
   "id": "f7814aca",
   "metadata": {},
   "outputs": [
    {
     "name": "stdout",
     "output_type": "stream",
     "text": [
      "['22_5_2022_sahibinden_ev.csv', '26_5_2022_sahibinden_ev.csv', '5_9_2022_sahibinden_ev.csv']\n"
     ]
    }
   ],
   "source": [
    "import os\n",
    "\n",
    "path = \"../datasets/IstanbulSaleFlatData/\"\n",
    "files = os.listdir(path)  # Auflistet alle Folien im Verzeichnis\n",
    "print(files)"
   ]
  },
  {
   "cell_type": "markdown",
   "id": "1ffe4060",
   "metadata": {},
   "source": [
    "- Wie lädt man die Dateien"
   ]
  },
  {
   "cell_type": "code",
   "execution_count": 3,
   "id": "2f5e6832",
   "metadata": {},
   "outputs": [],
   "source": [
    "import pandas as pd \n",
    "\n",
    "df_original = pd.DataFrame()\n",
    "for file in files:\n",
    "    filepath = os.path.join(path, file)\n",
    "    df_original = pd.concat([df_original, pd.read_csv(filepath)], ignore_index=True)"
   ]
  },
  {
   "cell_type": "markdown",
   "id": "f6732b3b",
   "metadata": {},
   "source": [
    "- Wie kann man die ersten Zeilen der Daten anzeigen?"
   ]
  },
  {
   "cell_type": "code",
   "execution_count": 4,
   "id": "cdf33f8e",
   "metadata": {},
   "outputs": [
    {
     "data": {
      "text/html": [
       "<div>\n",
       "<style scoped>\n",
       "    .dataframe tbody tr th:only-of-type {\n",
       "        vertical-align: middle;\n",
       "    }\n",
       "\n",
       "    .dataframe tbody tr th {\n",
       "        vertical-align: top;\n",
       "    }\n",
       "\n",
       "    .dataframe thead th {\n",
       "        text-align: right;\n",
       "    }\n",
       "</style>\n",
       "<table border=\"1\" class=\"dataframe\">\n",
       "  <thead>\n",
       "    <tr style=\"text-align: right;\">\n",
       "      <th></th>\n",
       "      <th>Unnamed: 0</th>\n",
       "      <th>title</th>\n",
       "      <th>area</th>\n",
       "      <th>numberOfRooms</th>\n",
       "      <th>price</th>\n",
       "      <th>town</th>\n",
       "      <th>district</th>\n",
       "    </tr>\n",
       "  </thead>\n",
       "  <tbody>\n",
       "    <tr>\n",
       "      <th>0</th>\n",
       "      <td>0</td>\n",
       "      <td>KINALIADA İSKELEYE , ÇARŞIYA COK YAKİN MERKEZİ...</td>\n",
       "      <td>110.0</td>\n",
       "      <td>2+1</td>\n",
       "      <td>3.450.000</td>\n",
       "      <td>KınalıadaKınalıada Mh</td>\n",
       "      <td>.</td>\n",
       "    </tr>\n",
       "    <tr>\n",
       "      <th>1</th>\n",
       "      <td>1</td>\n",
       "      <td>Sahibinden bakımlı iskeleye 5 dk yürüme mesafe...</td>\n",
       "      <td>85.0</td>\n",
       "      <td>2+1</td>\n",
       "      <td>4.050.000</td>\n",
       "      <td>BüyükadaNizam Mh</td>\n",
       "      <td>.</td>\n",
       "    </tr>\n",
       "    <tr>\n",
       "      <th>2</th>\n",
       "      <td>2</td>\n",
       "      <td>Katta Tek orta kat</td>\n",
       "      <td>130.0</td>\n",
       "      <td>2+1</td>\n",
       "      <td>3.500.000</td>\n",
       "      <td>KınalıadaKınalıada Mh</td>\n",
       "      <td>.</td>\n",
       "    </tr>\n",
       "    <tr>\n",
       "      <th>3</th>\n",
       "      <td>3</td>\n",
       "      <td>Planet'ten İskeleye 5 Dkka İçi Sıfır Geniş 1+1...</td>\n",
       "      <td>75.0</td>\n",
       "      <td>1+1</td>\n",
       "      <td>2.100.000</td>\n",
       "      <td>NaN</td>\n",
       "      <td>NaN</td>\n",
       "    </tr>\n",
       "    <tr>\n",
       "      <th>4</th>\n",
       "      <td>4</td>\n",
       "      <td>KINALIADA AKASYA CADDESİNDE KOMPLE SATILIK BİN...</td>\n",
       "      <td>900.0</td>\n",
       "      <td>4+2</td>\n",
       "      <td>19.500.000</td>\n",
       "      <td>KınalıadaKınalıada Mh</td>\n",
       "      <td>.</td>\n",
       "    </tr>\n",
       "  </tbody>\n",
       "</table>\n",
       "</div>"
      ],
      "text/plain": [
       "   Unnamed: 0                                              title   area  \\\n",
       "0           0  KINALIADA İSKELEYE , ÇARŞIYA COK YAKİN MERKEZİ...  110.0   \n",
       "1           1  Sahibinden bakımlı iskeleye 5 dk yürüme mesafe...   85.0   \n",
       "2           2                                 Katta Tek orta kat  130.0   \n",
       "3           3  Planet'ten İskeleye 5 Dkka İçi Sıfır Geniş 1+1...   75.0   \n",
       "4           4  KINALIADA AKASYA CADDESİNDE KOMPLE SATILIK BİN...  900.0   \n",
       "\n",
       "  numberOfRooms       price                   town district  \n",
       "0           2+1   3.450.000  KınalıadaKınalıada Mh        .  \n",
       "1           2+1   4.050.000       BüyükadaNizam Mh        .  \n",
       "2           2+1   3.500.000  KınalıadaKınalıada Mh        .  \n",
       "3           1+1   2.100.000                    NaN      NaN  \n",
       "4           4+2  19.500.000  KınalıadaKınalıada Mh        .  "
      ]
     },
     "execution_count": 4,
     "metadata": {},
     "output_type": "execute_result"
    }
   ],
   "source": [
    "df_original.head()"
   ]
  },
  {
   "cell_type": "markdown",
   "id": "8a9cb4e0",
   "metadata": {},
   "source": [
    "- Wie bekommt man einen schnellen Überblick über die Daten?"
   ]
  },
  {
   "cell_type": "code",
   "execution_count": 5,
   "id": "37dd5109",
   "metadata": {},
   "outputs": [
    {
     "name": "stdout",
     "output_type": "stream",
     "text": [
      "<class 'pandas.core.frame.DataFrame'>\n",
      "RangeIndex: 44840 entries, 0 to 44839\n",
      "Data columns (total 7 columns):\n",
      " #   Column         Non-Null Count  Dtype  \n",
      "---  ------         --------------  -----  \n",
      " 0   Unnamed: 0     44840 non-null  int64  \n",
      " 1   title          44840 non-null  object \n",
      " 2   area           44840 non-null  float64\n",
      " 3   numberOfRooms  44840 non-null  object \n",
      " 4   price          44840 non-null  object \n",
      " 5   town           43465 non-null  object \n",
      " 6   district       40923 non-null  object \n",
      "dtypes: float64(1), int64(1), object(5)\n",
      "memory usage: 2.4+ MB\n"
     ]
    }
   ],
   "source": [
    "df_original.info()"
   ]
  },
  {
   "cell_type": "markdown",
   "id": "ba0bb32a",
   "metadata": {},
   "source": [
    "- Wie kann man alle möglichen Werte einer Spalte anzeigen?"
   ]
  },
  {
   "cell_type": "code",
   "execution_count": 6,
   "id": "7dda0740",
   "metadata": {},
   "outputs": [
    {
     "data": {
      "text/plain": [
       "array(['2+1', '1+1', '4+2', '3+1', '4+1', '3+2', '5+1', '5+2', '2.5+1',\n",
       "       '7+3', '6+2', '2+2', '3.5+1', '6+3', '4+4', '4+0', '7+2', '4+3',\n",
       "       '8+2', '6+1', 'Stüdyo', '1.5+1', '10+2', '2+0', '4.5+1', '8+1',\n",
       "       '7+1', '10', '5+3', '8+3', '3+0', '5+4', '8+4', '9+4', '5.5+1',\n",
       "       '1+0'], dtype=object)"
      ]
     },
     "execution_count": 6,
     "metadata": {},
     "output_type": "execute_result"
    }
   ],
   "source": [
    "df_original['numberOfRooms'].unique()"
   ]
  },
  {
   "cell_type": "code",
   "execution_count": 7,
   "id": "3f9980a8",
   "metadata": {},
   "outputs": [
    {
     "data": {
      "text/plain": [
       "numberOfRooms\n",
       "2+1       19187\n",
       "3+1       12903\n",
       "1+1        3716\n",
       "4+1        2657\n",
       "4+2        1629\n",
       "3+2         969\n",
       "5+1         720\n",
       "1+0         652\n",
       "5+2         590\n",
       "3.5+1       333\n",
       "2+2         277\n",
       "2.5+1       208\n",
       "Stüdyo      207\n",
       "6+2         203\n",
       "6+1         133\n",
       "4.5+1       131\n",
       "1.5+1        93\n",
       "4+3          49\n",
       "7+2          35\n",
       "7+1          20\n",
       "8+2          17\n",
       "4+4          14\n",
       "6+3          13\n",
       "5+3          13\n",
       "4+0          11\n",
       "10           11\n",
       "2+0          10\n",
       "7+3           8\n",
       "10+2          6\n",
       "8+1           5\n",
       "8+3           5\n",
       "3+0           5\n",
       "5.5+1         5\n",
       "5+4           2\n",
       "9+4           2\n",
       "8+4           1\n",
       "Name: count, dtype: int64"
      ]
     },
     "execution_count": 7,
     "metadata": {},
     "output_type": "execute_result"
    }
   ],
   "source": [
    "df_original['numberOfRooms'].value_counts()"
   ]
  },
  {
   "cell_type": "markdown",
   "id": "fe2e5819",
   "metadata": {},
   "source": [
    "- Wie erzeugt man eine Kopie eines Dataframes?"
   ]
  },
  {
   "cell_type": "code",
   "execution_count": 8,
   "id": "54dca2bc",
   "metadata": {},
   "outputs": [],
   "source": [
    "df_clean = df_original.copy()"
   ]
  },
  {
   "cell_type": "markdown",
   "id": "55d0cc75",
   "metadata": {},
   "source": [
    "- Wie löscht man eine Spalte und welche Spalte können wir löschen?"
   ]
  },
  {
   "cell_type": "code",
   "execution_count": 9,
   "id": "99c465bb",
   "metadata": {},
   "outputs": [
    {
     "data": {
      "text/plain": [
       "Index(['Unnamed: 0', 'title', 'area', 'numberOfRooms', 'price', 'town',\n",
       "       'district'],\n",
       "      dtype='object')"
      ]
     },
     "execution_count": 9,
     "metadata": {},
     "output_type": "execute_result"
    }
   ],
   "source": [
    "df_clean.columns"
   ]
  },
  {
   "cell_type": "code",
   "execution_count": 10,
   "id": "e973bd36",
   "metadata": {},
   "outputs": [],
   "source": [
    "df_clean = df_clean.drop(df_clean.columns[0], axis=1)"
   ]
  },
  {
   "cell_type": "markdown",
   "id": "606d2c64",
   "metadata": {},
   "source": [
    "- Wie löscht man alle Duplikate?"
   ]
  },
  {
   "cell_type": "code",
   "execution_count": 11,
   "id": "805ea915",
   "metadata": {},
   "outputs": [],
   "source": [
    "df_clean = df_clean.drop_duplicates()"
   ]
  },
  {
   "cell_type": "markdown",
   "id": "284b9730",
   "metadata": {},
   "source": [
    "- Wie findet man alle fehlenden Werte in der Spalte 'town' und wie geht man mit ihnen um?"
   ]
  },
  {
   "cell_type": "code",
   "execution_count": 16,
   "id": "bc1f31c2",
   "metadata": {},
   "outputs": [
    {
     "data": {
      "text/plain": [
       "town\n",
       "Esenyurt                   1991\n",
       "Arnavutköy                 1291\n",
       "Mimarsinan                 1218\n",
       "Kavaklı                     920\n",
       "Halkalı                     829\n",
       "                           ... \n",
       "ArapcamiBereketzade Mah       1\n",
       "TarlabaşıHüseyinağa Mh        1\n",
       "CihangirTomtom Mah            1\n",
       "YenişehirYenişehir Mh         1\n",
       "TarlabaşıÇukur Mh             1\n",
       "Name: count, Length: 548, dtype: int64"
      ]
     },
     "execution_count": 16,
     "metadata": {},
     "output_type": "execute_result"
    }
   ],
   "source": [
    "# Looking for most commen value in town to fill NaN values\n",
    "df_clean[\"town\"].value_counts()"
   ]
  },
  {
   "cell_type": "code",
   "execution_count": 18,
   "id": "25de16c7",
   "metadata": {},
   "outputs": [],
   "source": [
    "handle_by = \"filling\"\n",
    "for index,row in df_clean[df_clean[\"town\"].isna()].iterrows():\n",
    "    if handle_by == \"ignoring\":\n",
    "        continue\n",
    "    elif handle_by == \"dropping\":\n",
    "        df_clean = df_clean.drop(index)\n",
    "    elif handle_by == \"filling\":\n",
    "        df_clean.at[index, 'town'] = \"KınalıadaKınalıada Mh\""
   ]
  },
  {
   "cell_type": "code",
   "execution_count": 19,
   "id": "0f65c157",
   "metadata": {},
   "outputs": [
    {
     "data": {
      "text/plain": [
       "0"
      ]
     },
     "execution_count": 19,
     "metadata": {},
     "output_type": "execute_result"
    }
   ],
   "source": [
    "# Due to filling NaN values sum of the NaN values become 0\n",
    "df_clean[\"town\"].isna().sum()"
   ]
  },
  {
   "cell_type": "markdown",
   "id": "d6aea111",
   "metadata": {},
   "source": [
    "- Welche Spalten müssen wir umformen?"
   ]
  },
  {
   "cell_type": "code",
   "execution_count": 20,
   "id": "5d355008",
   "metadata": {},
   "outputs": [
    {
     "name": "stdout",
     "output_type": "stream",
     "text": [
      "Index(['title', 'numberOfRooms', 'price', 'town', 'district'], dtype='object')\n"
     ]
    }
   ],
   "source": [
    "print(df_clean.select_dtypes(include=['object']).columns)"
   ]
  },
  {
   "cell_type": "markdown",
   "id": "553633f9",
   "metadata": {},
   "source": [
    "- Wie können wir mit den Werten der Spalte 'price' umgehen?\n",
    "1. Wie ändert man die Trennzeichen?"
   ]
  },
  {
   "cell_type": "code",
   "execution_count": 22,
   "id": "f8814637",
   "metadata": {},
   "outputs": [],
   "source": [
    "df_clean[\"price\"] = df_clean[\"price\"].str.replace('.', '').str.replace(',', '.')"
   ]
  },
  {
   "cell_type": "code",
   "execution_count": 23,
   "id": "1a23eae7",
   "metadata": {},
   "outputs": [
    {
     "data": {
      "text/plain": [
       "array(['3450000', '4050000', '3500000', ..., '3759500', '968000',\n",
       "       '613000'], dtype=object)"
      ]
     },
     "execution_count": 23,
     "metadata": {},
     "output_type": "execute_result"
    }
   ],
   "source": [
    "# All of price values have become numeric values\n",
    "df_clean[\"price\"].unique()"
   ]
  },
  {
   "cell_type": "markdown",
   "id": "41a2bba6",
   "metadata": {},
   "source": [
    "2. Wie findet man alle Werte die keine Zahl sind?"
   ]
  },
  {
   "cell_type": "code",
   "execution_count": 25,
   "id": "c4f1199d",
   "metadata": {},
   "outputs": [
    {
     "name": "stdout",
     "output_type": "stream",
     "text": [
      "['(1+0)' 'Üzeri']\n"
     ]
    }
   ],
   "source": [
    "df_price_nan = df_clean[~df_clean['price'].str.replace('.', '', 1).str.isnumeric()] # ~ inverts the boolean mask\n",
    "print(df_price_nan[\"price\"].unique())"
   ]
  },
  {
   "cell_type": "markdown",
   "id": "a7e55be2",
   "metadata": {},
   "source": [
    "3. Wie kann man die Werte in Zahlen umwandeln?"
   ]
  },
  {
   "cell_type": "code",
   "execution_count": 43,
   "id": "8a0311ca",
   "metadata": {},
   "outputs": [],
   "source": [
    "df_clean[\"price\"] = pd.to_numeric(df_clean['price'], errors='coerce')"
   ]
  },
  {
   "cell_type": "markdown",
   "id": "5c599e35",
   "metadata": {},
   "source": [
    "4. Was passiert mit den Zeilen mit nicht-numerischen Werten?"
   ]
  },
  {
   "cell_type": "code",
   "execution_count": 44,
   "id": "1438aba9",
   "metadata": {},
   "outputs": [],
   "source": [
    "df_clean = df_clean.dropna(subset=['price'])"
   ]
  },
  {
   "cell_type": "markdown",
   "id": "97ce6c24",
   "metadata": {},
   "source": [
    "- Wie können wir mit den Werten der Spalte 'numberOfRooms' umgehen?\n",
    "1. Welche Werte sind möglich?"
   ]
  },
  {
   "cell_type": "code",
   "execution_count": 45,
   "id": "6c9487dc",
   "metadata": {},
   "outputs": [
    {
     "data": {
      "text/plain": [
       "array([ 2. ,  1. ,  4. ,  3. ,  5. ,  2.5,  7. ,  6. ,  3.5,  8. ,  1.5,\n",
       "       10. ,  4.5,  9. ,  5.5])"
      ]
     },
     "execution_count": 45,
     "metadata": {},
     "output_type": "execute_result"
    }
   ],
   "source": [
    "# Alle Werte in der Spalte numberOfRooms\n",
    "df_clean[\"numberOfRooms\"].unique()"
   ]
  },
  {
   "cell_type": "code",
   "execution_count": 31,
   "id": "9e698b2b",
   "metadata": {},
   "outputs": [
    {
     "data": {
      "text/plain": [
       "36"
      ]
     },
     "execution_count": 31,
     "metadata": {},
     "output_type": "execute_result"
    }
   ],
   "source": [
    "# 36 einzige Werte (number of unique values)\n",
    "df_clean[\"numberOfRooms\"].nunique()"
   ]
  },
  {
   "cell_type": "code",
   "execution_count": 34,
   "id": "072abc02",
   "metadata": {},
   "outputs": [],
   "source": [
    "df_clean[\"+rooms\"] = df_clean[\"numberOfRooms\"].apply(lambda row: float(row.split('+')[1]) if '+' in row else 0.0)\n",
    "df_clean[\"numberOfRooms\"] = df_clean[\"numberOfRooms\"].apply(lambda row: float(row.split('+')[0]) if '+' in row else 1)"
   ]
  },
  {
   "cell_type": "code",
   "execution_count": 36,
   "id": "d455a97d",
   "metadata": {},
   "outputs": [
    {
     "data": {
      "text/plain": [
       "+rooms\n",
       "1.0    39728\n",
       "2.0     3681\n",
       "0.0      887\n",
       "3.0       88\n",
       "4.0       18\n",
       "Name: count, dtype: int64"
      ]
     },
     "execution_count": 36,
     "metadata": {},
     "output_type": "execute_result"
    }
   ],
   "source": [
    "df_clean[\"+rooms\"].value_counts()"
   ]
  },
  {
   "cell_type": "code",
   "execution_count": 37,
   "id": "80b3162e",
   "metadata": {},
   "outputs": [
    {
     "data": {
      "text/plain": [
       "numberOfRooms\n",
       "2.0     19299\n",
       "3.0     13729\n",
       "1.0      4539\n",
       "4.0      4314\n",
       "5.0      1313\n",
       "6.0       346\n",
       "3.5       331\n",
       "2.5       207\n",
       "4.5       128\n",
       "1.5        92\n",
       "7.0        63\n",
       "8.0        28\n",
       "10.0        6\n",
       "5.5         5\n",
       "9.0         2\n",
       "Name: count, dtype: int64"
      ]
     },
     "execution_count": 37,
     "metadata": {},
     "output_type": "execute_result"
    }
   ],
   "source": [
    "df_clean[\"numberOfRooms\"].value_counts()"
   ]
  },
  {
   "cell_type": "markdown",
   "id": "947a8d1e",
   "metadata": {},
   "source": [
    "- Ist die Datenbereinigung abgeschlossen? "
   ]
  },
  {
   "cell_type": "code",
   "execution_count": 38,
   "id": "d5b59bda",
   "metadata": {},
   "outputs": [
    {
     "name": "stdout",
     "output_type": "stream",
     "text": [
      "<class 'pandas.core.frame.DataFrame'>\n",
      "Index: 44402 entries, 0 to 44839\n",
      "Data columns (total 7 columns):\n",
      " #   Column         Non-Null Count  Dtype  \n",
      "---  ------         --------------  -----  \n",
      " 0   title          44402 non-null  object \n",
      " 1   area           44402 non-null  float64\n",
      " 2   numberOfRooms  44402 non-null  float64\n",
      " 3   price          44402 non-null  object \n",
      " 4   town           44402 non-null  object \n",
      " 5   district       40520 non-null  object \n",
      " 6   +rooms         44402 non-null  float64\n",
      "dtypes: float64(3), object(4)\n",
      "memory usage: 3.7+ MB\n"
     ]
    }
   ],
   "source": [
    "df_clean.info()"
   ]
  },
  {
   "cell_type": "markdown",
   "id": "73e5e3fb",
   "metadata": {},
   "source": [
    "- Welche Spalten könnten zusätzlich erzeugt werden?"
   ]
  },
  {
   "cell_type": "code",
   "execution_count": 46,
   "id": "5d342c7f",
   "metadata": {},
   "outputs": [
    {
     "name": "stderr",
     "output_type": "stream",
     "text": [
      "C:\\Users\\msi\\AppData\\Local\\Temp\\ipykernel_22784\\2573071063.py:1: SettingWithCopyWarning: \n",
      "A value is trying to be set on a copy of a slice from a DataFrame.\n",
      "Try using .loc[row_indexer,col_indexer] = value instead\n",
      "\n",
      "See the caveats in the documentation: https://pandas.pydata.org/pandas-docs/stable/user_guide/indexing.html#returning-a-view-versus-a-copy\n",
      "  df_clean[\"pricePerSqm\"] = df_clean[\"price\"] / df_clean[\"area\"]\n",
      "C:\\Users\\msi\\AppData\\Local\\Temp\\ipykernel_22784\\2573071063.py:2: SettingWithCopyWarning: \n",
      "A value is trying to be set on a copy of a slice from a DataFrame.\n",
      "Try using .loc[row_indexer,col_indexer] = value instead\n",
      "\n",
      "See the caveats in the documentation: https://pandas.pydata.org/pandas-docs/stable/user_guide/indexing.html#returning-a-view-versus-a-copy\n",
      "  df_clean[\"pricePerRoom\"] = df_clean[\"price\"] / (df_clean['numberOfRooms'] + df_clean['+rooms'])\n",
      "C:\\Users\\msi\\AppData\\Local\\Temp\\ipykernel_22784\\2573071063.py:3: SettingWithCopyWarning: \n",
      "A value is trying to be set on a copy of a slice from a DataFrame.\n",
      "Try using .loc[row_indexer,col_indexer] = value instead\n",
      "\n",
      "See the caveats in the documentation: https://pandas.pydata.org/pandas-docs/stable/user_guide/indexing.html#returning-a-view-versus-a-copy\n",
      "  df_clean['sqmPerRoom'] = df_clean[\"area\"] / (df_clean['numberOfRooms'] + df_clean['+rooms'])\n"
     ]
    }
   ],
   "source": [
    "df_clean[\"pricePerSqm\"] = df_clean[\"price\"] / df_clean[\"area\"]\n",
    "df_clean[\"pricePerRoom\"] = df_clean[\"price\"] / (df_clean['numberOfRooms'] + df_clean['+rooms'])\n",
    "df_clean['sqmPerRoom'] = df_clean[\"area\"] / (df_clean['numberOfRooms'] + df_clean['+rooms'])"
   ]
  },
  {
   "cell_type": "code",
   "execution_count": null,
   "id": "ac80aa50",
   "metadata": {},
   "outputs": [],
   "source": []
  },
  {
   "cell_type": "markdown",
   "id": "2e3616ea",
   "metadata": {},
   "source": [
    "- Wie lässt sich die Verteilung der Daten visualisieren?"
   ]
  },
  {
   "cell_type": "code",
   "execution_count": 48,
   "id": "fa28face",
   "metadata": {},
   "outputs": [
    {
     "name": "stderr",
     "output_type": "stream",
     "text": [
      "C:\\Users\\msi\\anaconda3\\anaconda3_main\\lib\\site-packages\\seaborn\\_oldcore.py:1498: FutureWarning: is_categorical_dtype is deprecated and will be removed in a future version. Use isinstance(dtype, CategoricalDtype) instead\n",
      "  if pd.api.types.is_categorical_dtype(vector):\n",
      "C:\\Users\\msi\\anaconda3\\anaconda3_main\\lib\\site-packages\\seaborn\\_oldcore.py:1498: FutureWarning: is_categorical_dtype is deprecated and will be removed in a future version. Use isinstance(dtype, CategoricalDtype) instead\n",
      "  if pd.api.types.is_categorical_dtype(vector):\n",
      "C:\\Users\\msi\\anaconda3\\anaconda3_main\\lib\\site-packages\\seaborn\\_oldcore.py:1498: FutureWarning: is_categorical_dtype is deprecated and will be removed in a future version. Use isinstance(dtype, CategoricalDtype) instead\n",
      "  if pd.api.types.is_categorical_dtype(vector):\n",
      "C:\\Users\\msi\\anaconda3\\anaconda3_main\\lib\\site-packages\\seaborn\\_oldcore.py:1498: FutureWarning: is_categorical_dtype is deprecated and will be removed in a future version. Use isinstance(dtype, CategoricalDtype) instead\n",
      "  if pd.api.types.is_categorical_dtype(vector):\n",
      "C:\\Users\\msi\\anaconda3\\anaconda3_main\\lib\\site-packages\\seaborn\\_oldcore.py:1498: FutureWarning: is_categorical_dtype is deprecated and will be removed in a future version. Use isinstance(dtype, CategoricalDtype) instead\n",
      "  if pd.api.types.is_categorical_dtype(vector):\n",
      "C:\\Users\\msi\\anaconda3\\anaconda3_main\\lib\\site-packages\\seaborn\\_oldcore.py:1498: FutureWarning: is_categorical_dtype is deprecated and will be removed in a future version. Use isinstance(dtype, CategoricalDtype) instead\n",
      "  if pd.api.types.is_categorical_dtype(vector):\n",
      "C:\\Users\\msi\\anaconda3\\anaconda3_main\\lib\\site-packages\\seaborn\\_oldcore.py:1498: FutureWarning: is_categorical_dtype is deprecated and will be removed in a future version. Use isinstance(dtype, CategoricalDtype) instead\n",
      "  if pd.api.types.is_categorical_dtype(vector):\n",
      "C:\\Users\\msi\\anaconda3\\anaconda3_main\\lib\\site-packages\\seaborn\\_oldcore.py:1498: FutureWarning: is_categorical_dtype is deprecated and will be removed in a future version. Use isinstance(dtype, CategoricalDtype) instead\n",
      "  if pd.api.types.is_categorical_dtype(vector):\n",
      "C:\\Users\\msi\\anaconda3\\anaconda3_main\\lib\\site-packages\\seaborn\\_oldcore.py:1498: FutureWarning: is_categorical_dtype is deprecated and will be removed in a future version. Use isinstance(dtype, CategoricalDtype) instead\n",
      "  if pd.api.types.is_categorical_dtype(vector):\n",
      "C:\\Users\\msi\\anaconda3\\anaconda3_main\\lib\\site-packages\\seaborn\\_oldcore.py:1498: FutureWarning: is_categorical_dtype is deprecated and will be removed in a future version. Use isinstance(dtype, CategoricalDtype) instead\n",
      "  if pd.api.types.is_categorical_dtype(vector):\n"
     ]
    },
    {
     "data": {
      "text/plain": [
       "<Axes: >"
      ]
     },
     "execution_count": 48,
     "metadata": {},
     "output_type": "execute_result"
    },
    {
     "data": {
      "image/png": "[encoded data removed]",
      "text/plain": [
       "<Figure size 1000x500 with 1 Axes>"
      ]
     },
     "metadata": {},
     "output_type": "display_data"
    }
   ],
   "source": [
    "import matplotlib.pyplot as plt\n",
    "import seaborn as sns\n",
    "\n",
    "plt.figure(figsize=(10, 5))\n",
    "sns.boxplot(df_clean)"
   ]
  },
  {
   "cell_type": "markdown",
   "id": "b1767259",
   "metadata": {},
   "source": [
    "- Wie kann man Ausreißer behandeln?"
   ]
  },
  {
   "cell_type": "code",
   "execution_count": 50,
   "id": "77e169d6",
   "metadata": {},
   "outputs": [
    {
     "name": "stderr",
     "output_type": "stream",
     "text": [
      "C:\\Users\\msi\\AppData\\Local\\Temp\\ipykernel_22784\\3278933351.py:14: SettingWithCopyWarning: \n",
      "A value is trying to be set on a copy of a slice from a DataFrame\n",
      "\n",
      "See the caveats in the documentation: https://pandas.pydata.org/pandas-docs/stable/user_guide/indexing.html#returning-a-view-versus-a-copy\n",
      "  df_clean[\"price\"][outliers] = df_clean[\"price\"][~outliers].mean()\n",
      "C:\\Users\\msi\\anaconda3\\anaconda3_main\\lib\\site-packages\\seaborn\\_oldcore.py:1498: FutureWarning: is_categorical_dtype is deprecated and will be removed in a future version. Use isinstance(dtype, CategoricalDtype) instead\n",
      "  if pd.api.types.is_categorical_dtype(vector):\n",
      "C:\\Users\\msi\\anaconda3\\anaconda3_main\\lib\\site-packages\\seaborn\\_oldcore.py:1498: FutureWarning: is_categorical_dtype is deprecated and will be removed in a future version. Use isinstance(dtype, CategoricalDtype) instead\n",
      "  if pd.api.types.is_categorical_dtype(vector):\n",
      "C:\\Users\\msi\\anaconda3\\anaconda3_main\\lib\\site-packages\\seaborn\\_oldcore.py:1498: FutureWarning: is_categorical_dtype is deprecated and will be removed in a future version. Use isinstance(dtype, CategoricalDtype) instead\n",
      "  if pd.api.types.is_categorical_dtype(vector):\n",
      "C:\\Users\\msi\\anaconda3\\anaconda3_main\\lib\\site-packages\\seaborn\\_oldcore.py:1498: FutureWarning: is_categorical_dtype is deprecated and will be removed in a future version. Use isinstance(dtype, CategoricalDtype) instead\n",
      "  if pd.api.types.is_categorical_dtype(vector):\n",
      "C:\\Users\\msi\\anaconda3\\anaconda3_main\\lib\\site-packages\\seaborn\\_oldcore.py:1498: FutureWarning: is_categorical_dtype is deprecated and will be removed in a future version. Use isinstance(dtype, CategoricalDtype) instead\n",
      "  if pd.api.types.is_categorical_dtype(vector):\n",
      "C:\\Users\\msi\\anaconda3\\anaconda3_main\\lib\\site-packages\\seaborn\\_oldcore.py:1498: FutureWarning: is_categorical_dtype is deprecated and will be removed in a future version. Use isinstance(dtype, CategoricalDtype) instead\n",
      "  if pd.api.types.is_categorical_dtype(vector):\n",
      "C:\\Users\\msi\\anaconda3\\anaconda3_main\\lib\\site-packages\\seaborn\\_oldcore.py:1498: FutureWarning: is_categorical_dtype is deprecated and will be removed in a future version. Use isinstance(dtype, CategoricalDtype) instead\n",
      "  if pd.api.types.is_categorical_dtype(vector):\n",
      "C:\\Users\\msi\\anaconda3\\anaconda3_main\\lib\\site-packages\\seaborn\\_oldcore.py:1498: FutureWarning: is_categorical_dtype is deprecated and will be removed in a future version. Use isinstance(dtype, CategoricalDtype) instead\n",
      "  if pd.api.types.is_categorical_dtype(vector):\n",
      "C:\\Users\\msi\\anaconda3\\anaconda3_main\\lib\\site-packages\\seaborn\\_oldcore.py:1498: FutureWarning: is_categorical_dtype is deprecated and will be removed in a future version. Use isinstance(dtype, CategoricalDtype) instead\n",
      "  if pd.api.types.is_categorical_dtype(vector):\n",
      "C:\\Users\\msi\\anaconda3\\anaconda3_main\\lib\\site-packages\\seaborn\\_oldcore.py:1498: FutureWarning: is_categorical_dtype is deprecated and will be removed in a future version. Use isinstance(dtype, CategoricalDtype) instead\n",
      "  if pd.api.types.is_categorical_dtype(vector):\n"
     ]
    },
    {
     "data": {
      "text/plain": [
       "<Axes: >"
      ]
     },
     "execution_count": 50,
     "metadata": {},
     "output_type": "execute_result"
    },
    {
     "data": {
      "image/png": "[encoded data removed]",
      "text/plain": [
       "<Figure size 1000x500 with 1 Axes>"
      ]
     },
     "metadata": {},
     "output_type": "display_data"
    }
   ],
   "source": [
    "import numpy as np\n",
    "\n",
    "quartile_1 = df_clean[\"price\"].quantile(0.25)\n",
    "quartile_3 = df_clean[\"price\"].quantile(0.75)\n",
    "inter_quartile_range = quartile_3 - quartile_1\n",
    "threshold = 1.5\n",
    "outliers = ((df_clean[\"price\"] < (quartile_1 - inter_quartile_range * threshold))\n",
    "            | (df_clean[\"price\"] > (quartile_3 + inter_quartile_range * threshold)))\n",
    "\n",
    "handle_by = 'average'\n",
    "if handle_by == \"dropping\":\n",
    "    df_clean = df_clean[~outliers]\n",
    "elif handle_by == \"average\":\n",
    "    df_clean[\"price\"][outliers] = df_clean[\"price\"][~outliers].mean()\n",
    "elif handle_by == 'log_transform':\n",
    "        df_clean['price'] = np.log(df_clean['price'])\n",
    "        \n",
    "plt.figure(figsize=(10, 5))\n",
    "sns.boxplot(df_clean)"
   ]
  },
  {
   "cell_type": "markdown",
   "id": "cecdac6f",
   "metadata": {},
   "source": [
    "- Skalierungsmethoden \n",
    "\n",
    "   1. MinMax Skalierung (Normalisierung)\n",
    "      - Werte fallen in bestimmten Wertebereich, z.B.: [0;1]\n",
    "      - Beziehung zwischen Datenpunkten bleibt erhalten.\n",
    "      - Eingesetzt für Algorithmen bei denen die Distanz von Datenpunkten wichtig ist, z.B.: k-Nearest Neighbors KNN\n",
    "   2. Standardisierung\n",
    "      - Daten werden geändert, um einen Mittelwert von 0 und Standardabweichung von 1 zu haben.\n",
    "      - Eingesetzt für Methoden die von normalverteilten Daten ausgehen, z.B. Principal Component Analysis (PCA) und Support Vector Machines (SVMs).\n",
    "   3. Robuste Skalierung\n",
    "      - Reduziert den Einfluss von Ausreißern.\n",
    "      - Verwendet den Mittelwert und die Interquartildistanz. \n",
    "   4. Logarithmus\n",
    "      - Anwenden des Logarithmus auf Daten.\n",
    "      - Eingesetzt um die Auswirkungen von rechtsschiefen Daten zu verringern und die Verteilung symmetrischer zu machen, z.B. bei Werten die sich über mehrere Größenordnungen erstrecken.\n",
    "   5. Box-Cox Transformation\n",
    "      - Ändert die Verteilung von Daten, um diese so normalverteilt wie möglich zu machen."
   ]
  },
  {
   "cell_type": "code",
   "execution_count": 54,
   "id": "02b5f0b0",
   "metadata": {},
   "outputs": [
    {
     "name": "stderr",
     "output_type": "stream",
     "text": [
      "C:\\Users\\msi\\anaconda3\\anaconda3_main\\lib\\site-packages\\seaborn\\_oldcore.py:1498: FutureWarning: is_categorical_dtype is deprecated and will be removed in a future version. Use isinstance(dtype, CategoricalDtype) instead\n",
      "  if pd.api.types.is_categorical_dtype(vector):\n",
      "C:\\Users\\msi\\anaconda3\\anaconda3_main\\lib\\site-packages\\seaborn\\_oldcore.py:1498: FutureWarning: is_categorical_dtype is deprecated and will be removed in a future version. Use isinstance(dtype, CategoricalDtype) instead\n",
      "  if pd.api.types.is_categorical_dtype(vector):\n",
      "C:\\Users\\msi\\anaconda3\\anaconda3_main\\lib\\site-packages\\seaborn\\_oldcore.py:1498: FutureWarning: is_categorical_dtype is deprecated and will be removed in a future version. Use isinstance(dtype, CategoricalDtype) instead\n",
      "  if pd.api.types.is_categorical_dtype(vector):\n",
      "C:\\Users\\msi\\anaconda3\\anaconda3_main\\lib\\site-packages\\seaborn\\_oldcore.py:1498: FutureWarning: is_categorical_dtype is deprecated and will be removed in a future version. Use isinstance(dtype, CategoricalDtype) instead\n",
      "  if pd.api.types.is_categorical_dtype(vector):\n",
      "C:\\Users\\msi\\anaconda3\\anaconda3_main\\lib\\site-packages\\seaborn\\_oldcore.py:1498: FutureWarning: is_categorical_dtype is deprecated and will be removed in a future version. Use isinstance(dtype, CategoricalDtype) instead\n",
      "  if pd.api.types.is_categorical_dtype(vector):\n",
      "C:\\Users\\msi\\anaconda3\\anaconda3_main\\lib\\site-packages\\seaborn\\_oldcore.py:1498: FutureWarning: is_categorical_dtype is deprecated and will be removed in a future version. Use isinstance(dtype, CategoricalDtype) instead\n",
      "  if pd.api.types.is_categorical_dtype(vector):\n",
      "C:\\Users\\msi\\anaconda3\\anaconda3_main\\lib\\site-packages\\seaborn\\_oldcore.py:1498: FutureWarning: is_categorical_dtype is deprecated and will be removed in a future version. Use isinstance(dtype, CategoricalDtype) instead\n",
      "  if pd.api.types.is_categorical_dtype(vector):\n"
     ]
    },
    {
     "data": {
      "text/plain": [
       "<Axes: >"
      ]
     },
     "execution_count": 54,
     "metadata": {},
     "output_type": "execute_result"
    },
    {
     "data": {
      "image/png": "[encoded data removed]",
      "text/plain": [
       "<Figure size 1000x500 with 1 Axes>"
      ]
     },
     "metadata": {},
     "output_type": "display_data"
    }
   ],
   "source": [
    "from sklearn.preprocessing import StandardScaler\n",
    "\n",
    "df_numeric = df_clean.select_dtypes(include=['number'])\n",
    "scaler = StandardScaler()\n",
    "df_scaled = pd.DataFrame(scaler.fit_transform(df_numeric), columns=df_numeric.columns)\n",
    "\n",
    "plt.figure(figsize=(10, 5))\n",
    "sns.boxplot(df_scaled)"
   ]
  },
  {
   "cell_type": "markdown",
   "id": "2a159bc0",
   "metadata": {},
   "source": [
    "- Wie stellt man Korrelationen zwischen Daten dar?"
   ]
  },
  {
   "cell_type": "code",
   "execution_count": 59,
   "id": "fa52bb05",
   "metadata": {},
   "outputs": [
    {
     "data": {
      "text/plain": [
       "<Axes: >"
      ]
     },
     "execution_count": 59,
     "metadata": {},
     "output_type": "execute_result"
    },
    {
     "data": {
      "image/png": "[encoded data removed]",
      "text/plain": [
       "<Figure size 640x480 with 2 Axes>"
      ]
     },
     "metadata": {},
     "output_type": "display_data"
    }
   ],
   "source": [
    "sns.heatmap(df_scaled.corr(), cmap='coolwarm', annot=True)"
   ]
  }
 ],
 "metadata": {
  "kernelspec": {
   "display_name": "Python 3 (ipykernel)",
   "language": "python",
   "name": "python3"
  },
  "language_info": {
   "codemirror_mode": {
    "name": "ipython",
    "version": 3
   },
   "file_extension": ".py",
   "mimetype": "text/x-python",
   "name": "python",
   "nbconvert_exporter": "python",
   "pygments_lexer": "ipython3",
   "version": "3.10.13"
  }
 },
 "nbformat": 4,
 "nbformat_minor": 5
}
