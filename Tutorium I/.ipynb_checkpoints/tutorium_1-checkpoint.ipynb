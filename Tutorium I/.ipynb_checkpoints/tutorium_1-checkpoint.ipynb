{
 "cells": [
  {
   "cell_type": "code",
   "execution_count": 1,
   "id": "01bb4bcd",
   "metadata": {},
   "outputs": [],
   "source": [
    "my_list = [\"INF\", 506, \"Tutorium\", 1]\n",
    "my_list.append(\"Page\")\n",
    "my_list.append(1)"
   ]
  },
  {
   "cell_type": "code",
   "execution_count": 2,
   "id": "a2221b0b",
   "metadata": {},
   "outputs": [
    {
     "data": {
      "text/plain": [
       "['INF', 506, 'Tutorium', 1, 'Page', 1]"
      ]
     },
     "execution_count": 2,
     "metadata": {},
     "output_type": "execute_result"
    }
   ],
   "source": [
    "my_list"
   ]
  },
  {
   "cell_type": "markdown",
   "id": "691fbab9",
   "metadata": {},
   "source": [
    "- Gebe den Inhalt der Liste aus\n",
    "- Gebe den Inhalt des ersten Listenelements aus\n",
    "- Gebe den Inhalt der ersten drei Listenelemente aus\n",
    "- Gebe alle Listenelemente außer die ersten drei und das letzte aus\n",
    "- Gebe jedes zweite Listenelement beginnend beim vorletzten in umgekehrter Reihenfolge aus"
   ]
  },
  {
   "cell_type": "code",
   "execution_count": 8,
   "id": "a13d27a8",
   "metadata": {},
   "outputs": [
    {
     "name": "stdout",
     "output_type": "stream",
     "text": [
      "['INF', 506, 'Tutorium', 1, 'Page', 1]\n",
      "INF\n",
      "['INF', 506, 'Tutorium']\n",
      "[1, 'Page']\n",
      "['Tutorium', 1]\n",
      "['Page']\n"
     ]
    }
   ],
   "source": [
    "print(my_list)\n",
    "print(my_list[0])\n",
    "print(my_list[:3])\n",
    "# Gebe alle Listenelemente außer die ersten drei und das letzte aus\n",
    "print(my_list[3:-1])\n",
    "# Gebe alle Listenelemente außer die ersten zwei und das vorletzte und letzte aus\n",
    "print(my_list[2:-2])\n",
    "# Gebe jedes zweite Listenelement beginnend beim vorletzten in umgekehrter Reihenfolge aus\n",
    "print(my_list[-2::2])"
   ]
  },
  {
   "cell_type": "markdown",
   "id": "6c89ec36",
   "metadata": {},
   "source": [
    "- Fasse alle Zahlen der Liste in einer neuen Liste zusammen\n",
    "- Füge die Längen der Listen als Elemente hinzu\n",
    "- Summiere die Listenelemente"
   ]
  },
  {
   "cell_type": "code",
   "execution_count": 31,
   "id": "b3dd933d",
   "metadata": {},
   "outputs": [
    {
     "name": "stdout",
     "output_type": "stream",
     "text": [
      "The sum of [506, 1, 1, 6, 3] is 517\n"
     ]
    }
   ],
   "source": [
    "# List comprehension\n",
    "num_list = [ num for num in my_list if isinstance(num, int)]\n",
    "num_list += [ len(my_list), len(num_list) ]\n",
    "#Alternative\n",
    "total = 0\n",
    "for i in range(len(num_list)):\n",
    "    total += num_list[i]\n",
    "\n",
    "\n",
    "print(\"The sum of {} is {}\".format(num_list, total))"
   ]
  },
  {
   "cell_type": "code",
   "execution_count": 43,
   "id": "0e05a5ee",
   "metadata": {
    "scrolled": false
   },
   "outputs": [
    {
     "name": "stdout",
     "output_type": "stream",
     "text": [
      "[506, 6, 3, 1, 1]\n",
      "Smallest number of list [506, 6, 3, 1, 1] is 1\n",
      "Biggest number of list [506, 6, 3, 1, 1] is 506\n"
     ]
    }
   ],
   "source": [
    "num_list.sort(reverse=True)\n",
    "print(num_list)\n",
    "\n",
    "def smallestNumber(intArr):\n",
    "    sorted_list = sorted(intArr, reverse=False)\n",
    "    return sorted_list[0]\n",
    "\n",
    "def biggestNumber(intArr):\n",
    "    sorted_list = sorted(intArr, reverse=True)\n",
    "    return sorted_list[0]\n",
    "\n",
    "print(\"Smallest number of list {} is {}\"\n",
    "      .format(num_list, smallestNumber(num_list)))\n",
    "print(\"Biggest number of list {} is {}\"\n",
    "     .format(num_list, biggestNumber(num_list)))"
   ]
  },
  {
   "cell_type": "markdown",
   "id": "003624ba",
   "metadata": {},
   "source": [
    "## Char Counter"
   ]
  },
  {
   "cell_type": "code",
   "execution_count": 64,
   "id": "e2fc02e8",
   "metadata": {},
   "outputs": [
    {
     "data": {
      "text/plain": [
       "{'a': 4,\n",
       " 'n': 1,\n",
       " 'ı': 1,\n",
       " 'l': 2,\n",
       " 'c': 1,\n",
       " 'e': 1,\n",
       " 'm': 1,\n",
       " 'y': 1,\n",
       " 'ş': 1,\n",
       " 'r': 1}"
      ]
     },
     "execution_count": 64,
     "metadata": {},
     "output_type": "execute_result"
    }
   ],
   "source": [
    "# Using list comprehension\n",
    "word = \"Anıl bugün kod yazacakkkk\"\n",
    "dictionary = dict()\n",
    "def frequency(word):\n",
    "    characters = [ char for char in word.lower() if char != \" \"]\n",
    "    dictionary = { char: characters.count(char) for char in characters}\n",
    "    return dictionary\n",
    "frequency(\"Anıl Cemal Yaşar\")"
   ]
  },
  {
   "cell_type": "code",
   "execution_count": 70,
   "id": "c3d38215",
   "metadata": {},
   "outputs": [
    {
     "name": "stdout",
     "output_type": "stream",
     "text": [
      "Please enter a string whose char frequency you want to learn: Anıl naber diye sordu bana\n"
     ]
    },
    {
     "data": {
      "text/plain": [
       "[('n', 3), ('a', 3), ('b', 2)]"
      ]
     },
     "execution_count": 70,
     "metadata": {},
     "output_type": "execute_result"
    }
   ],
   "source": [
    "# Using Counter from collections\n",
    "from collections import Counter\n",
    "\n",
    "def frequency_v2(word):\n",
    "    return dict(Counter([char for char in word if char != \" \"]))\n",
    "\n",
    "word = input(\"Please enter a string whose char frequency you want to learn: \")\n",
    "# print(frequency_v2(word))\n",
    "# Top 5 most frequency characters\n",
    "my_dict = frequency_v2(word)\n",
    "sorted_dict_items = sorted(my_dict.items(), key= lambda x: x[1], reverse=True)[:5]\n",
    "sorted_dict_items"
   ]
  },
  {
   "cell_type": "code",
   "execution_count": 69,
   "id": "e1a3ee8f",
   "metadata": {},
   "outputs": [
    {
     "name": "stdout",
     "output_type": "stream",
     "text": [
      "{'anahtar2': 30, 'anahtar6': 25, 'anahtar4': 20, 'anahtar5': 15, 'anahtar1': 10}\n"
     ]
    }
   ],
   "source": [
    "my_dict = {\"anahtar1\": 10, \"anahtar2\": 30, \"anahtar3\": 5, \"anahtar4\": 20, \"anahtar5\": 15, \"anahtar6\": 25}\n",
    "\n",
    "# Sözlüğü değerlere göre sırala ve ilk 5 anahtarı seç\n",
    "sorted_dict_items = sorted(my_dict.items(), key=lambda x: x[1], reverse=True)[:5]\n",
    "\n",
    "# İlk 5 anahtarı bir yeni sözlüğe ekleyin\n",
    "top_5_dict = dict(sorted_dict_items)\n",
    "\n",
    "print(top_5_dict)\n"
   ]
  }
 ],
 "metadata": {
  "kernelspec": {
   "display_name": "Python 3 (ipykernel)",
   "language": "python",
   "name": "python3"
  },
  "language_info": {
   "codemirror_mode": {
    "name": "ipython",
    "version": 3
   },
   "file_extension": ".py",
   "mimetype": "text/x-python",
   "name": "python",
   "nbconvert_exporter": "python",
   "pygments_lexer": "ipython3",
   "version": "3.10.9"
  }
 },
 "nbformat": 4,
 "nbformat_minor": 5
}
