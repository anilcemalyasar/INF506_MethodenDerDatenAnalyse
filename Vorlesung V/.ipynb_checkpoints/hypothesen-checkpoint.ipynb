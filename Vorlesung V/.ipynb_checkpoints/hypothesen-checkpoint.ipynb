{
 "cells": [
  {
   "cell_type": "code",
   "execution_count": 1,
   "id": "b21cab1e",
   "metadata": {},
   "outputs": [
    {
     "name": "stdout",
     "output_type": "stream",
     "text": [
      " For 2 trials : Probability of <= 0 successes : 0.2500\n",
      " For 10 trials : Probability of <= 4 successes : 0.3770\n",
      " For 100 trials : Probability of <= 40 successes : 0.0284\n",
      " For 1000 trials : Probability of <= 400 successes : 0.0000\n"
     ]
    }
   ],
   "source": [
    "from scipy.stats import binom\n",
    "\n",
    "# Define the parameters for the binomial distribution\n",
    "n_values = [2, 10, 100 , 1000]\n",
    "k_values = [0, 4, 40, 400] # The number of successes\n",
    "p = 0.5 # Probability of success\n",
    "\n",
    "for n, k in zip(n_values, k_values):\n",
    "    probability = binom.cdf(k, n, p)\n",
    "    print (f\" For {n} trials : Probability of <= {k} successes : { probability :.4f}\")"
   ]
  },
  {
   "cell_type": "code",
   "execution_count": 2,
   "id": "a0aa2d97",
   "metadata": {
    "scrolled": true
   },
   "outputs": [
    {
     "name": "stdout",
     "output_type": "stream",
     "text": [
      " For 2 trials : Probability of <= 0 successes : 0.2500\n",
      " For 20 trials : Probability of <= 8 successes : 0.2517\n",
      " For 50 trials : Probability of <= 20 successes : 0.1013\n",
      " For 200 trials : Probability of <= 80 successes : 0.0028\n",
      " For 1000 trials : Probability of <= 400 successes : 0.0000\n"
     ]
    }
   ],
   "source": [
    "# Define the parameters for the binomial distribution\n",
    "n_values = [2, 20, 50, 200, 1000]\n",
    "k_values = [0, 8, 20, 80, 400] # The number of successes\n",
    "p = 0.5 # probability of success\n",
    "\n",
    "for n, k in zip(n_values, k_values):\n",
    "    probability = binom.cdf(k, n, p)\n",
    "    print(f\" For {n} trials : Probability of <= {k} successes : { probability :.4f}\")"
   ]
  },
  {
   "cell_type": "markdown",
   "id": "1db9db1c",
   "metadata": {},
   "source": [
    "## Vergleich  p-Werte von beiden Verteilungen"
   ]
  },
  {
   "cell_type": "code",
   "execution_count": 4,
   "id": "c61bb9fe",
   "metadata": {},
   "outputs": [
    {
     "name": "stdout",
     "output_type": "stream",
     "text": [
      " For 2 trials : p- value for 0 heads ( binomial ): 0.5000\n",
      " For 2 trials : p- value for 0 heads ( normal ): 0.1573\n",
      " For 10 trials : p- value for 4 heads ( binomial ): 0.7539\n",
      " For 10 trials : p- value for 4 heads ( normal ): 0.5271\n",
      " For 100 trials : p- value for 40 heads ( binomial ): 0.0569\n",
      " For 100 trials : p- value for 40 heads ( normal ): 0.0455\n",
      " For 1000 trials : p- value for 400 heads ( binomial ): 0.0000\n",
      " For 1000 trials : p- value for 400 heads ( normal ): 0.0000\n",
      " For 100000 trials : p- value for 49500 heads ( binomial ): 0.0016\n",
      " For 100000 trials : p- value for 49500 heads ( normal ): 0.0016\n"
     ]
    },
    {
     "name": "stderr",
     "output_type": "stream",
     "text": [
      "C:\\Users\\msi\\AppData\\Local\\Temp\\ipykernel_2852\\3597890090.py:10: DeprecationWarning: 'binom_test' is deprecated in favour of 'binomtest' from version 1.7.0 and will be removed in Scipy 1.12.0.\n",
      "  p_value = binom_test(k, n, p, alternative=\"two-sided\")\n"
     ]
    }
   ],
   "source": [
    "from scipy . stats import binom , binom_test , norm\n",
    "import numpy as np\n",
    "# Define the parameters for the binomial distribution\n",
    "n_values = [2, 10, 100 , 1000 , 100000]\n",
    "k_values = [0, 4, 40, 400 , 49500] # The number of successes\n",
    "p = 0.5 # Probability of success\n",
    "\n",
    "for n, k in zip(n_values, k_values):\n",
    "    # Calculate the p- value using binomial distribution\n",
    "    p_value = binom_test(k, n, p, alternative=\"two-sided\")\n",
    "    print (f\" For {n} trials : p- value for {k} heads ( binomial ): { p_value :.4f}\")\n",
    "    \n",
    "    # Calculate the p- value using normal distribution approximation\n",
    "    mean = n * p\n",
    "    std_dev = np.sqrt(n * p * (1 - p) )\n",
    "    z = (k - mean) / std_dev\n",
    "    p_value = 2 * norm . cdf (z)\n",
    "    print (f\" For {n} trials : p- value for {k} heads ( normal ): { p_value :.4f}\")"
   ]
  }
 ],
 "metadata": {
  "kernelspec": {
   "display_name": "Python 3 (ipykernel)",
   "language": "python",
   "name": "python3"
  },
  "language_info": {
   "codemirror_mode": {
    "name": "ipython",
    "version": 3
   },
   "file_extension": ".py",
   "mimetype": "text/x-python",
   "name": "python",
   "nbconvert_exporter": "python",
   "pygments_lexer": "ipython3",
   "version": "3.10.13"
  }
 },
 "nbformat": 4,
 "nbformat_minor": 5
}
