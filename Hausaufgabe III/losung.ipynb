{
 "cells": [
  {
   "cell_type": "code",
   "execution_count": 1,
   "id": "13fc358c",
   "metadata": {},
   "outputs": [],
   "source": [
    "import numpy as np"
   ]
  },
  {
   "cell_type": "markdown",
   "id": "a5daed03",
   "metadata": {},
   "source": [
    "#### NumPy-Arrays konnen als Vektoren oder Matrizen betrachtet werden. Vektoren sind eindimensionale Arrays, während Matrizen zweidimensional sind. Vektoren und Matrizen können durch NumPy-Arrays dargestellt werden, um schnell zu Daten zu manipulieren und zu analysieren."
   ]
  },
  {
   "cell_type": "code",
   "execution_count": 2,
   "id": "be431e79",
   "metadata": {},
   "outputs": [],
   "source": [
    "# Vektor erstellen\n",
    "vector = np.array([1,2,3,4,5])"
   ]
  },
  {
   "cell_type": "code",
   "execution_count": 4,
   "id": "92126592",
   "metadata": {},
   "outputs": [],
   "source": [
    "# Matrix erstellen\n",
    "matrix = np.array([[1,2,3], [4,5,6], [7,8,9]])\n",
    "# matrix = np.arange(1,10).reshape(3,3)"
   ]
  },
  {
   "cell_type": "code",
   "execution_count": 5,
   "id": "b966a474",
   "metadata": {},
   "outputs": [
    {
     "name": "stdout",
     "output_type": "stream",
     "text": [
      "Vektor: \n",
      "[1 2 3 4 5]\n",
      "\n",
      "Matrix: \n",
      "[[1 2 3]\n",
      " [4 5 6]\n",
      " [7 8 9]]\n"
     ]
    }
   ],
   "source": [
    "print(\"Vektor: \")\n",
    "print(vector)\n",
    "\n",
    "print(\"\\nMatrix: \")\n",
    "print(matrix)"
   ]
  },
  {
   "cell_type": "markdown",
   "id": "eb3eb7fa",
   "metadata": {},
   "source": [
    "#### In NumPy können wir grundlegende Operationen auf Vektoren und Matrizen durchfuhren. Diese Operationen sind grundlegend für viele Methoden der Datenanalyse und der linearen Algebra."
   ]
  },
  {
   "cell_type": "code",
   "execution_count": 6,
   "id": "b543c4f5",
   "metadata": {},
   "outputs": [],
   "source": [
    "# Vektoren erstellen\n",
    "vector1 = np. array ([1 , 2, 3])\n",
    "vector2 = np. array ([4 , 5, 6])"
   ]
  },
  {
   "cell_type": "code",
   "execution_count": 8,
   "id": "9d90a325",
   "metadata": {},
   "outputs": [
    {
     "name": "stdout",
     "output_type": "stream",
     "text": [
      "[5 7 9]\n"
     ]
    }
   ],
   "source": [
    "# Addition von Vektoren\n",
    "addition_result = vector1 + vector2\n",
    "print(addition_result)"
   ]
  },
  {
   "cell_type": "markdown",
   "id": "5f6d3522",
   "metadata": {},
   "source": [
    "## Matrixmultiplikationen in NumPy"
   ]
  },
  {
   "cell_type": "markdown",
   "id": "0f995757",
   "metadata": {},
   "source": [
    "##### NumPy bietet eine effiziente Möglichkeit zur Berechnung von Matrixmultiplikationen.Dazu steht uns die Funktion matmul() zur Verfügung."
   ]
  },
  {
   "cell_type": "code",
   "execution_count": 9,
   "id": "805c300f",
   "metadata": {},
   "outputs": [],
   "source": [
    "# Matrizen erstellen\n",
    "matrix1 = np. array ([[1 , 2], [3, 4]])\n",
    "matrix2 = np. array ([[5 , 6], [7, 8]])"
   ]
  },
  {
   "cell_type": "code",
   "execution_count": 11,
   "id": "44da3044",
   "metadata": {},
   "outputs": [
    {
     "data": {
      "text/plain": [
       "array([[19, 22],\n",
       "       [43, 50]])"
      ]
     },
     "execution_count": 11,
     "metadata": {},
     "output_type": "execute_result"
    }
   ],
   "source": [
    "# Matrixmultiplikation, it must have a shape that matches the signature `(n,k),(k,m)->(n,m)`\n",
    "product = np.matmul(matrix1, matrix2)\n",
    "product"
   ]
  },
  {
   "cell_type": "markdown",
   "id": "aa7c9f9a",
   "metadata": {},
   "source": [
    "## Transponieren von Matrizen"
   ]
  },
  {
   "cell_type": "markdown",
   "id": "b2bf80fb",
   "metadata": {},
   "source": [
    "#### Die Transponierung von Matrizen bedeutet die Vertauschung von Zeilen und Spalten.In NumPy kann eine Matrix mithilfe der Funktion transpose() oder der Eigenschaft T transponiert werden."
   ]
  },
  {
   "cell_type": "code",
   "execution_count": 16,
   "id": "edf334af",
   "metadata": {},
   "outputs": [],
   "source": [
    "# Matrix erstellen\n",
    "matrix = np.array([[1 , 2], [3, 4], [5, 6]])"
   ]
  },
  {
   "cell_type": "code",
   "execution_count": 19,
   "id": "2d70a39c",
   "metadata": {},
   "outputs": [
    {
     "name": "stdout",
     "output_type": "stream",
     "text": [
      "Transposed Matrix: \n",
      "[[1 3 5]\n",
      " [2 4 6]]\n",
      "\n",
      " Re-transposed Matrix: \n",
      "[[1 2]\n",
      " [3 4]\n",
      " [5 6]]\n"
     ]
    }
   ],
   "source": [
    "# Matrix transposieren\n",
    "transposed_matrix = matrix.T\n",
    "print(\"Transposed Matrix: \")\n",
    "print(transposed_matrix)\n",
    "\n",
    "# Wieder transposieren\n",
    "re_transposed_matrix = transposed_matrix.T\n",
    "print(\"\\n Re-transposed Matrix: \")\n",
    "print(re_transposed_matrix)"
   ]
  },
  {
   "cell_type": "markdown",
   "id": "da68d83d",
   "metadata": {},
   "source": [
    "## Determinante und Inverse von Matrizen"
   ]
  },
  {
   "cell_type": "markdown",
   "id": "254cba36",
   "metadata": {},
   "source": [
    "### In NumPy können wir diese mithilfe der Funktionen linalg.det() und linalg.inv() berechnen."
   ]
  },
  {
   "cell_type": "code",
   "execution_count": 26,
   "id": "e243dccf",
   "metadata": {},
   "outputs": [],
   "source": [
    "# Matrix erstellen\n",
    "matrix = np.array([[1 , 2], [3, 4]])"
   ]
  },
  {
   "cell_type": "code",
   "execution_count": 28,
   "id": "69894bc1",
   "metadata": {},
   "outputs": [
    {
     "data": {
      "text/plain": [
       "-2.0000000000000004"
      ]
     },
     "execution_count": 28,
     "metadata": {},
     "output_type": "execute_result"
    }
   ],
   "source": [
    "# Determinante berechnen\n",
    "determinant = np.linalg.det(matrix)\n",
    "determinant"
   ]
  },
  {
   "cell_type": "code",
   "execution_count": 29,
   "id": "5849c749",
   "metadata": {},
   "outputs": [
    {
     "data": {
      "text/plain": [
       "array([[-2. ,  1. ],\n",
       "       [ 1.5, -0.5]])"
      ]
     },
     "execution_count": 29,
     "metadata": {},
     "output_type": "execute_result"
    }
   ],
   "source": [
    "# Inverse Matrix berechen\n",
    "inverse_matrix = np.linalg.inv(matrix)\n",
    "inverse_matrix"
   ]
  },
  {
   "cell_type": "code",
   "execution_count": 20,
   "id": "8a968390",
   "metadata": {},
   "outputs": [],
   "source": [
    "# Gegebene Koeffizientenmatrix A und Konstantenvektor b\n",
    "A = np.array([[2 , 3], [4, -2]])\n",
    "b = np.array([8 , 6])"
   ]
  },
  {
   "cell_type": "code",
   "execution_count": 21,
   "id": "1bc7109f",
   "metadata": {},
   "outputs": [],
   "source": [
    "# Schritt 2: Lösung des Gleichungssystems mit numpy.linalg.solve\n",
    "solution = np.linalg.solve(A, b)"
   ]
  },
  {
   "cell_type": "code",
   "execution_count": 24,
   "id": "be84653f",
   "metadata": {},
   "outputs": [
    {
     "name": "stdout",
     "output_type": "stream",
     "text": [
      "Solution\n",
      " x = 2.125 , y = 1.25\n"
     ]
    }
   ],
   "source": [
    "print(f\"Solution\\n x = {solution[0]} , y = {solution[1]}\")"
   ]
  },
  {
   "cell_type": "code",
   "execution_count": null,
   "id": "79c1b79a",
   "metadata": {},
   "outputs": [],
   "source": []
  },
  {
   "cell_type": "markdown",
   "id": "9b4b7f9b",
   "metadata": {},
   "source": [
    "### Frage2"
   ]
  },
  {
   "cell_type": "code",
   "execution_count": 30,
   "id": "82633b78",
   "metadata": {},
   "outputs": [],
   "source": [
    "def calculate_det(array):\n",
    "    return np.linalg.det(array)"
   ]
  },
  {
   "cell_type": "code",
   "execution_count": 31,
   "id": "8b4b3631",
   "metadata": {},
   "outputs": [],
   "source": [
    "matrix = np.array([ [3,9], [2,2] ])"
   ]
  },
  {
   "cell_type": "code",
   "execution_count": 35,
   "id": "91a9932a",
   "metadata": {},
   "outputs": [
    {
     "name": "stdout",
     "output_type": "stream",
     "text": [
      "[[3 9]\n",
      " [2 2]]\n",
      "Determinant of this matrix: -12.0\n"
     ]
    }
   ],
   "source": [
    "print(matrix)\n",
    "print(f\"Determinant of this matrix: {calculate_det(matrix)}\")"
   ]
  },
  {
   "cell_type": "markdown",
   "id": "4294cca3",
   "metadata": {},
   "source": [
    "### Frage3"
   ]
  },
  {
   "cell_type": "code",
   "execution_count": 36,
   "id": "f74d22c3",
   "metadata": {},
   "outputs": [],
   "source": [
    "matrix2 = np.array([ [2,4], [3,2] ])"
   ]
  },
  {
   "cell_type": "code",
   "execution_count": 37,
   "id": "fcccdd75",
   "metadata": {},
   "outputs": [
    {
     "name": "stdout",
     "output_type": "stream",
     "text": [
      "[[2 4]\n",
      " [3 2]]\n",
      "Determinant of this matrix: -8.000000000000002\n"
     ]
    }
   ],
   "source": [
    "print(matrix2)\n",
    "print(f\"Determinant of this matrix: {calculate_det(matrix2)}\")"
   ]
  },
  {
   "cell_type": "markdown",
   "id": "a91398d9",
   "metadata": {},
   "source": [
    "### Frage 5 Calculate inverse of given matrix"
   ]
  },
  {
   "cell_type": "code",
   "execution_count": 38,
   "id": "9a5cd507",
   "metadata": {},
   "outputs": [],
   "source": [
    "matrix5 = np.array([ [4,3] , [7,5] ])"
   ]
  },
  {
   "cell_type": "code",
   "execution_count": 48,
   "id": "9184171f",
   "metadata": {},
   "outputs": [],
   "source": [
    "def calculate_inverse(matrix):\n",
    "    # Schritt 1: Berechnung der Determinante\n",
    "    determinant = np.linalg.det(matrix)\n",
    "    # Schritt 2: Berechnung der Inverse\n",
    "    inverse = (1/determinant) * matrix.T\n",
    "    return inverse"
   ]
  },
  {
   "cell_type": "code",
   "execution_count": 49,
   "id": "5ac29229",
   "metadata": {},
   "outputs": [
    {
     "name": "stdout",
     "output_type": "stream",
     "text": [
      "Actual Matrix: \n",
      "[[4 3]\n",
      " [7 5]]\n",
      "Inverse Matrix: \n",
      "[[-0.25       -0.16666667]\n",
      " [-0.75       -0.16666667]]\n"
     ]
    }
   ],
   "source": [
    "print(\"Actual Matrix: \")\n",
    "print(matrix5)\n",
    "\n",
    "print(\"Inverse Matrix: \")\n",
    "print(calculate_inverse(matrix))"
   ]
  },
  {
   "cell_type": "code",
   "execution_count": 50,
   "id": "bbd1f5fa",
   "metadata": {},
   "outputs": [],
   "source": [
    "def inverse(matrix):\n",
    "    return np.linalg.inv(matrix)"
   ]
  },
  {
   "cell_type": "code",
   "execution_count": 52,
   "id": "83b6b2ab",
   "metadata": {},
   "outputs": [
    {
     "name": "stdout",
     "output_type": "stream",
     "text": [
      "Actual Matrix: \n",
      "[[4 3]\n",
      " [7 5]]\n",
      "Inverse Matrix: \n",
      "[[-0.16666667  0.75      ]\n",
      " [ 0.16666667 -0.25      ]]\n"
     ]
    }
   ],
   "source": [
    "print(\"Actual Matrix: \")\n",
    "print(matrix5)\n",
    "\n",
    "print(\"Inverse Matrix: \")\n",
    "print(inverse(matrix))"
   ]
  },
  {
   "cell_type": "code",
   "execution_count": 54,
   "id": "ee93c6d9",
   "metadata": {},
   "outputs": [
    {
     "data": {
      "text/plain": [
       "array([[ 4. , -7.5],\n",
       "       [-6. , 12.5]])"
      ]
     },
     "execution_count": 54,
     "metadata": {},
     "output_type": "execute_result"
    }
   ],
   "source": [
    "matrix7 = np.array([[2.5, 1.5], [1.2, 0.8]])\n",
    "inverse = np.linalg.inv(matrix7)\n",
    "inverse"
   ]
  },
  {
   "cell_type": "code",
   "execution_count": 56,
   "id": "c53cba41",
   "metadata": {},
   "outputs": [
    {
     "data": {
      "text/plain": [
       "array([[-5.,  3.],\n",
       "       [ 7., -4.]])"
      ]
     },
     "execution_count": 56,
     "metadata": {},
     "output_type": "execute_result"
    }
   ],
   "source": [
    "matrix5 = np.array([ [4,3] , [7,5] ])\n",
    "inverse = np.linalg.inv(matrix5)\n",
    "inverse"
   ]
  }
 ],
 "metadata": {
  "kernelspec": {
   "display_name": "Python 3 (ipykernel)",
   "language": "python",
   "name": "python3"
  },
  "language_info": {
   "codemirror_mode": {
    "name": "ipython",
    "version": 3
   },
   "file_extension": ".py",
   "mimetype": "text/x-python",
   "name": "python",
   "nbconvert_exporter": "python",
   "pygments_lexer": "ipython3",
   "version": "3.10.9"
  }
 },
 "nbformat": 4,
 "nbformat_minor": 5
}
