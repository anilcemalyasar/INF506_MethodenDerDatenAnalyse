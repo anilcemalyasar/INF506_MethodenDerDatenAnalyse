{
 "cells": [
  {
   "cell_type": "code",
   "execution_count": 1,
   "id": "e8a6eab0",
   "metadata": {},
   "outputs": [],
   "source": [
    "import pandas as pd\n",
    "import numpy as np\n",
    "\n",
    "import matplotlib.pyplot as plt\n",
    "import seaborn as sns"
   ]
  },
  {
   "cell_type": "code",
   "execution_count": 2,
   "id": "f68be34a",
   "metadata": {},
   "outputs": [],
   "source": [
    "%matplotlib inline"
   ]
  },
  {
   "cell_type": "markdown",
   "id": "518103cb",
   "metadata": {},
   "source": [
    "### MEAN CALCULATION"
   ]
  },
  {
   "cell_type": "code",
   "execution_count": 11,
   "id": "e185d05c",
   "metadata": {},
   "outputs": [],
   "source": [
    "# We can calculate mean of list or array with for loop\n",
    "def calculate_mean(arr):\n",
    "    total = 0\n",
    "    for num in arr:\n",
    "        total += num\n",
    "    return total / arr.shape[0]"
   ]
  },
  {
   "cell_type": "code",
   "execution_count": 12,
   "id": "4b579b4a",
   "metadata": {},
   "outputs": [
    {
     "name": "stdout",
     "output_type": "stream",
     "text": [
      "Mean of array: 4.5\n"
     ]
    }
   ],
   "source": [
    "arr = np.arange(0,10)\n",
    "print(\"Mean of array: {}\".format(calculate_mean(arr)))"
   ]
  },
  {
   "cell_type": "code",
   "execution_count": 14,
   "id": "b881dc45",
   "metadata": {},
   "outputs": [
    {
     "name": "stdout",
     "output_type": "stream",
     "text": [
      "Mean of array: 4.5\n"
     ]
    }
   ],
   "source": [
    "# Or we can just use numpy.mean() method\n",
    "print(f\"Mean of array: {np.mean(arr)}\")"
   ]
  },
  {
   "cell_type": "markdown",
   "id": "cf741738",
   "metadata": {},
   "source": [
    "### MEDIAN CALCULATION"
   ]
  },
  {
   "cell_type": "code",
   "execution_count": 17,
   "id": "2c48b300",
   "metadata": {},
   "outputs": [],
   "source": [
    "# We can calculate median of list or array with sorting\n",
    "def calculate_median(lst):\n",
    "    sortedLst = sorted(lst)\n",
    "    lstLen = len(sortedLst)\n",
    "    index = (lstLen - 1) // 2\n",
    "    \n",
    "    if (lstLen % 2 != 0):\n",
    "        return sortedLst[index]\n",
    "    else:\n",
    "        return (sortedLst[index] + sortedLst[index + 1]) / 2"
   ]
  },
  {
   "cell_type": "code",
   "execution_count": 19,
   "id": "3256d4df",
   "metadata": {},
   "outputs": [
    {
     "name": "stdout",
     "output_type": "stream",
     "text": [
      "Median of array: 2\n"
     ]
    }
   ],
   "source": [
    "arr2 = np.arange(0,5)\n",
    "# Array -> ([0,1,2,3,4]) || Median should be 2\n",
    "print(\"Median of array: {}\".format(calculate_median(arr2)))"
   ]
  },
  {
   "cell_type": "code",
   "execution_count": 20,
   "id": "467365ac",
   "metadata": {},
   "outputs": [
    {
     "name": "stdout",
     "output_type": "stream",
     "text": [
      "Median of array: 2.5\n"
     ]
    }
   ],
   "source": [
    "arr3 = np.arange(0,6)\n",
    "# Array -> ([0,1,2,3,4,5]) || Median should be 2.5\n",
    "print(\"Median of array: {}\".format(calculate_median(arr3)))"
   ]
  },
  {
   "cell_type": "markdown",
   "id": "0612c68c",
   "metadata": {},
   "source": [
    "#### Or we can use numpy.median() method to calculate median faster"
   ]
  },
  {
   "cell_type": "code",
   "execution_count": 21,
   "id": "c0c31cd7",
   "metadata": {},
   "outputs": [
    {
     "name": "stdout",
     "output_type": "stream",
     "text": [
      "Median of array: 2.5\n"
     ]
    }
   ],
   "source": [
    "print(\"Median of array: {}\".format(np.median(arr3)))"
   ]
  },
  {
   "cell_type": "code",
   "execution_count": null,
   "id": "23e35553",
   "metadata": {},
   "outputs": [],
   "source": []
  },
  {
   "cell_type": "markdown",
   "id": "17e89113",
   "metadata": {},
   "source": [
    "## Häufigkeitstabellen"
   ]
  },
  {
   "cell_type": "markdown",
   "id": "b387e967",
   "metadata": {},
   "source": [
    "#### Häufigkeitstabellen geben Aufschluss darüber, wie häufig einzelne Werte oder Merkmalsausprägungen in einem Datensatz vorkommen. Beispiel: Wir haben die Größen von 10 Häusern in Metern gemessen. Die Messwerte lauten: 8, 9.5, 10, 8.5, 11, 9, 8, 10.5, 9.5, 10"
   ]
  },
  {
   "cell_type": "code",
   "execution_count": 30,
   "id": "47421214",
   "metadata": {},
   "outputs": [],
   "source": [
    "num_list = [8, 9.5, 10, 8.5, 11, 9, 8, 10.5, 9.5, 10]"
   ]
  },
  {
   "cell_type": "code",
   "execution_count": 31,
   "id": "445b9a5d",
   "metadata": {},
   "outputs": [
    {
     "data": {
      "text/plain": [
       "{8: 2, 9.5: 2, 10: 2, 8.5: 1, 11: 1, 9: 1, 10.5: 1}"
      ]
     },
     "execution_count": 31,
     "metadata": {},
     "output_type": "execute_result"
    }
   ],
   "source": [
    "counter = {}\n",
    "for num in num_list:\n",
    "    if num not in counter:\n",
    "        counter[num] = 0\n",
    "    counter[num] += 1\n",
    "    \n",
    "counter"
   ]
  },
  {
   "cell_type": "code",
   "execution_count": 33,
   "id": "da61d358",
   "metadata": {
    "scrolled": true
   },
   "outputs": [
    {
     "data": {
      "text/html": [
       "<div>\n",
       "<style scoped>\n",
       "    .dataframe tbody tr th:only-of-type {\n",
       "        vertical-align: middle;\n",
       "    }\n",
       "\n",
       "    .dataframe tbody tr th {\n",
       "        vertical-align: top;\n",
       "    }\n",
       "\n",
       "    .dataframe thead th {\n",
       "        text-align: right;\n",
       "    }\n",
       "</style>\n",
       "<table border=\"1\" class=\"dataframe\">\n",
       "  <thead>\n",
       "    <tr style=\"text-align: right;\">\n",
       "      <th></th>\n",
       "      <th>Häufigkeit</th>\n",
       "    </tr>\n",
       "  </thead>\n",
       "  <tbody>\n",
       "    <tr>\n",
       "      <th>8.0</th>\n",
       "      <td>2</td>\n",
       "    </tr>\n",
       "    <tr>\n",
       "      <th>9.5</th>\n",
       "      <td>2</td>\n",
       "    </tr>\n",
       "    <tr>\n",
       "      <th>10.0</th>\n",
       "      <td>2</td>\n",
       "    </tr>\n",
       "    <tr>\n",
       "      <th>8.5</th>\n",
       "      <td>1</td>\n",
       "    </tr>\n",
       "    <tr>\n",
       "      <th>11.0</th>\n",
       "      <td>1</td>\n",
       "    </tr>\n",
       "    <tr>\n",
       "      <th>9.0</th>\n",
       "      <td>1</td>\n",
       "    </tr>\n",
       "    <tr>\n",
       "      <th>10.5</th>\n",
       "      <td>1</td>\n",
       "    </tr>\n",
       "  </tbody>\n",
       "</table>\n",
       "</div>"
      ],
      "text/plain": [
       "      Häufigkeit\n",
       "8.0            2\n",
       "9.5            2\n",
       "10.0           2\n",
       "8.5            1\n",
       "11.0           1\n",
       "9.0            1\n",
       "10.5           1"
      ]
     },
     "execution_count": 33,
     "metadata": {},
     "output_type": "execute_result"
    }
   ],
   "source": [
    "häufigkeit = pd.DataFrame(data=counter.values(), index=counter.keys(), columns=[\"Häufigkeit\"])\n",
    "häufigkeit"
   ]
  },
  {
   "cell_type": "markdown",
   "id": "cda6cd17",
   "metadata": {},
   "source": [
    "### Counter"
   ]
  },
  {
   "cell_type": "code",
   "execution_count": 36,
   "id": "dbe75d36",
   "metadata": {},
   "outputs": [
    {
     "data": {
      "text/html": [
       "<div>\n",
       "<style scoped>\n",
       "    .dataframe tbody tr th:only-of-type {\n",
       "        vertical-align: middle;\n",
       "    }\n",
       "\n",
       "    .dataframe tbody tr th {\n",
       "        vertical-align: top;\n",
       "    }\n",
       "\n",
       "    .dataframe thead th {\n",
       "        text-align: right;\n",
       "    }\n",
       "</style>\n",
       "<table border=\"1\" class=\"dataframe\">\n",
       "  <thead>\n",
       "    <tr style=\"text-align: right;\">\n",
       "      <th></th>\n",
       "      <th>Häufigkeit</th>\n",
       "    </tr>\n",
       "  </thead>\n",
       "  <tbody>\n",
       "    <tr>\n",
       "      <th>8.0</th>\n",
       "      <td>2</td>\n",
       "    </tr>\n",
       "    <tr>\n",
       "      <th>9.5</th>\n",
       "      <td>2</td>\n",
       "    </tr>\n",
       "    <tr>\n",
       "      <th>10.0</th>\n",
       "      <td>2</td>\n",
       "    </tr>\n",
       "    <tr>\n",
       "      <th>8.5</th>\n",
       "      <td>1</td>\n",
       "    </tr>\n",
       "    <tr>\n",
       "      <th>11.0</th>\n",
       "      <td>1</td>\n",
       "    </tr>\n",
       "    <tr>\n",
       "      <th>9.0</th>\n",
       "      <td>1</td>\n",
       "    </tr>\n",
       "    <tr>\n",
       "      <th>10.5</th>\n",
       "      <td>1</td>\n",
       "    </tr>\n",
       "  </tbody>\n",
       "</table>\n",
       "</div>"
      ],
      "text/plain": [
       "      Häufigkeit\n",
       "8.0            2\n",
       "9.5            2\n",
       "10.0           2\n",
       "8.5            1\n",
       "11.0           1\n",
       "9.0            1\n",
       "10.5           1"
      ]
     },
     "execution_count": 36,
     "metadata": {},
     "output_type": "execute_result"
    }
   ],
   "source": [
    "from collections import Counter\n",
    "\n",
    "counter_object = Counter(num_list)\n",
    "\n",
    "tabelle = pd.DataFrame(data=counter_object.values(), index=counter_object.keys(), columns=[\"Häufigkeit\"])\n",
    "tabelle"
   ]
  },
  {
   "cell_type": "markdown",
   "id": "e1b0d2dd",
   "metadata": {},
   "source": [
    "### MODE CALCULATION"
   ]
  },
  {
   "cell_type": "code",
   "execution_count": 40,
   "id": "16db22dc",
   "metadata": {},
   "outputs": [],
   "source": [
    "def calculate_mode(arr):\n",
    "    return Counter(arr).most_common(3)"
   ]
  },
  {
   "cell_type": "code",
   "execution_count": 41,
   "id": "f04012b2",
   "metadata": {},
   "outputs": [
    {
     "name": "stdout",
     "output_type": "stream",
     "text": [
      "[(8, 2), (9.5, 2), (10, 2)]\n"
     ]
    }
   ],
   "source": [
    "print(calculate_mode(num_list))"
   ]
  }
 ],
 "metadata": {
  "kernelspec": {
   "display_name": "Python 3 (ipykernel)",
   "language": "python",
   "name": "python3"
  },
  "language_info": {
   "codemirror_mode": {
    "name": "ipython",
    "version": 3
   },
   "file_extension": ".py",
   "mimetype": "text/x-python",
   "name": "python",
   "nbconvert_exporter": "python",
   "pygments_lexer": "ipython3",
   "version": "3.10.9"
  }
 },
 "nbformat": 4,
 "nbformat_minor": 5
}
