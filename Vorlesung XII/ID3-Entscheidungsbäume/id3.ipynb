{
 "cells": [
  {
   "cell_type": "code",
   "execution_count": 4,
   "id": "e6c5ce98",
   "metadata": {},
   "outputs": [],
   "source": [
    "import numpy as np"
   ]
  },
  {
   "cell_type": "code",
   "execution_count": 5,
   "id": "e8796204",
   "metadata": {},
   "outputs": [],
   "source": [
    "def entropie_per_class(p):\n",
    "    \"\"\"\n",
    "    Der ID3-Algorithmus verwendet die Entropie als Maß für die Informationsunschärfe oder\n",
    "    Unsicherheit in einem Datensatz.\n",
    "    \"\"\"\n",
    "    if p==0 or p==1:\n",
    "        return 0\n",
    "    \n",
    "    return p * np.log2(p)"
   ]
  },
  {
   "cell_type": "code",
   "execution_count": 12,
   "id": "ef68291d",
   "metadata": {},
   "outputs": [],
   "source": [
    "def binary_entropie(p1, p2):\n",
    "    \"\"\"\n",
    "    Ein H von 0 bedeutet, dass alle Datenpunkte in dem Knoten zu einer einzigen Klasse\n",
    "    gehören. Ein höheres H zeigt höhere Unsicherheit und Misclassification im Knoten an\n",
    "    \"\"\"\n",
    "    return  -(entropie_per_class(p1) + entropie_per_class(p2))"
   ]
  },
  {
   "cell_type": "code",
   "execution_count": 13,
   "id": "231071be",
   "metadata": {},
   "outputs": [
    {
     "name": "stdout",
     "output_type": "stream",
     "text": [
      "0.9910760598382222\n"
     ]
    }
   ],
   "source": [
    "# Die Aufteilung der Klassen sind fast gleich. Deswegen die Entropie H ist nah zu 1\n",
    "print(binary_entropie(5/9, 4/9))"
   ]
  },
  {
   "cell_type": "code",
   "execution_count": 14,
   "id": "e56435d8",
   "metadata": {},
   "outputs": [
    {
     "name": "stdout",
     "output_type": "stream",
     "text": [
      "1.0\n"
     ]
    }
   ],
   "source": [
    "# Die Aufteilung der Klassen sind gleich. Deswegen ist die Entropie H gleich 1\n",
    "print(binary_entropie(1/2, 1/2))"
   ]
  },
  {
   "cell_type": "code",
   "execution_count": 21,
   "id": "40cbcd58",
   "metadata": {},
   "outputs": [
    {
     "name": "stdout",
     "output_type": "stream",
     "text": [
      "0\n"
     ]
    }
   ],
   "source": [
    "# Eine Klasse hat die Aufteilung dominiert. Alle Datenpunkte in dem Knoten zu dieser einzigen Klasse gehören\n",
    "print(binary_entropie(5/5, 0/5))"
   ]
  }
 ],
 "metadata": {
  "kernelspec": {
   "display_name": "Python 3 (ipykernel)",
   "language": "python",
   "name": "python3"
  },
  "language_info": {
   "codemirror_mode": {
    "name": "ipython",
    "version": 3
   },
   "file_extension": ".py",
   "mimetype": "text/x-python",
   "name": "python",
   "nbconvert_exporter": "python",
   "pygments_lexer": "ipython3",
   "version": "3.10.13"
  }
 },
 "nbformat": 4,
 "nbformat_minor": 5
}
