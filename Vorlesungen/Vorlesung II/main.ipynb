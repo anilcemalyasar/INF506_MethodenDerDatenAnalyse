{
 "cells": [
  {
   "cell_type": "code",
   "execution_count": 1,
   "id": "28c13d58",
   "metadata": {},
   "outputs": [],
   "source": [
    "import pandas as pd\n",
    "import numpy as np"
   ]
  },
  {
   "cell_type": "markdown",
   "id": "05a5f240",
   "metadata": {},
   "source": [
    "### Daten durch Beobachtung sammeln"
   ]
  },
  {
   "cell_type": "code",
   "execution_count": 2,
   "id": "3d8647aa",
   "metadata": {},
   "outputs": [],
   "source": [
    "# Annahme : Beobachtung von Kundenverhalten in einem G e s c h f t\n",
    "customer_behavior = {\n",
    "    'customer_id': [1, 2, 3, 4, 5],\n",
    "    'purchase_amount': [50.0 , 30.0 , 25.0 , 60.0 , 40.0] ,\n",
    "    'visit_duration_minutes': [20 , 15, 10, 25, 18]\n",
    "}"
   ]
  },
  {
   "cell_type": "code",
   "execution_count": 3,
   "id": "90a4baf2",
   "metadata": {},
   "outputs": [
    {
     "data": {
      "text/html": [
       "<div>\n",
       "<style scoped>\n",
       "    .dataframe tbody tr th:only-of-type {\n",
       "        vertical-align: middle;\n",
       "    }\n",
       "\n",
       "    .dataframe tbody tr th {\n",
       "        vertical-align: top;\n",
       "    }\n",
       "\n",
       "    .dataframe thead th {\n",
       "        text-align: right;\n",
       "    }\n",
       "</style>\n",
       "<table border=\"1\" class=\"dataframe\">\n",
       "  <thead>\n",
       "    <tr style=\"text-align: right;\">\n",
       "      <th></th>\n",
       "      <th>customer_id</th>\n",
       "      <th>purchase_amount</th>\n",
       "      <th>visit_duration_minutes</th>\n",
       "    </tr>\n",
       "  </thead>\n",
       "  <tbody>\n",
       "    <tr>\n",
       "      <th>0</th>\n",
       "      <td>1</td>\n",
       "      <td>50.0</td>\n",
       "      <td>20</td>\n",
       "    </tr>\n",
       "    <tr>\n",
       "      <th>1</th>\n",
       "      <td>2</td>\n",
       "      <td>30.0</td>\n",
       "      <td>15</td>\n",
       "    </tr>\n",
       "    <tr>\n",
       "      <th>2</th>\n",
       "      <td>3</td>\n",
       "      <td>25.0</td>\n",
       "      <td>10</td>\n",
       "    </tr>\n",
       "    <tr>\n",
       "      <th>3</th>\n",
       "      <td>4</td>\n",
       "      <td>60.0</td>\n",
       "      <td>25</td>\n",
       "    </tr>\n",
       "    <tr>\n",
       "      <th>4</th>\n",
       "      <td>5</td>\n",
       "      <td>40.0</td>\n",
       "      <td>18</td>\n",
       "    </tr>\n",
       "  </tbody>\n",
       "</table>\n",
       "</div>"
      ],
      "text/plain": [
       "   customer_id  purchase_amount  visit_duration_minutes\n",
       "0            1             50.0                      20\n",
       "1            2             30.0                      15\n",
       "2            3             25.0                      10\n",
       "3            4             60.0                      25\n",
       "4            5             40.0                      18"
      ]
     },
     "execution_count": 3,
     "metadata": {},
     "output_type": "execute_result"
    }
   ],
   "source": [
    "df = pd.DataFrame(customer_behavior)\n",
    "df.head()"
   ]
  },
  {
   "cell_type": "markdown",
   "id": "45ed01a7",
   "metadata": {},
   "source": [
    "## Datenbereinigung \n",
    "Ungenaue oder unvollständige Daten können zu fehlerhaften Analysen führen und die\n",
    "Effektivität von Machine Learning Modellen beeinträchtigen.\n",
    "1) Enfernen von Duplikaten\n",
    "2) Behandeln von fehlenden Werten\n",
    "3) Entfernen von Ausreißern\n",
    "4) Überprüfen von Daten auf Konsistenz und Genauigkeit\n",
    "5) Formatieren von Daten in das richtige Format."
   ]
  },
  {
   "cell_type": "code",
   "execution_count": 4,
   "id": "73bf41ba",
   "metadata": {},
   "outputs": [],
   "source": [
    "# Annahme : Ein DataFrame mit u n v o l l s t n d i g e n Daten\n",
    "data = pd. DataFrame ({ 'A': [1, 2, None , 4, 5], 'B': [None , 2, 3, 4, 5]})"
   ]
  },
  {
   "cell_type": "code",
   "execution_count": 5,
   "id": "632521e2",
   "metadata": {},
   "outputs": [],
   "source": [
    "# Entfernen von Zeilen mit fehlenden Werten\n",
    "cleaned_data = data.dropna()"
   ]
  },
  {
   "cell_type": "code",
   "execution_count": 6,
   "id": "9eb03a9c",
   "metadata": {},
   "outputs": [
    {
     "data": {
      "text/html": [
       "<div>\n",
       "<style scoped>\n",
       "    .dataframe tbody tr th:only-of-type {\n",
       "        vertical-align: middle;\n",
       "    }\n",
       "\n",
       "    .dataframe tbody tr th {\n",
       "        vertical-align: top;\n",
       "    }\n",
       "\n",
       "    .dataframe thead th {\n",
       "        text-align: right;\n",
       "    }\n",
       "</style>\n",
       "<table border=\"1\" class=\"dataframe\">\n",
       "  <thead>\n",
       "    <tr style=\"text-align: right;\">\n",
       "      <th></th>\n",
       "      <th>A</th>\n",
       "      <th>B</th>\n",
       "    </tr>\n",
       "  </thead>\n",
       "  <tbody>\n",
       "    <tr>\n",
       "      <th>1</th>\n",
       "      <td>2.0</td>\n",
       "      <td>2.0</td>\n",
       "    </tr>\n",
       "    <tr>\n",
       "      <th>3</th>\n",
       "      <td>4.0</td>\n",
       "      <td>4.0</td>\n",
       "    </tr>\n",
       "    <tr>\n",
       "      <th>4</th>\n",
       "      <td>5.0</td>\n",
       "      <td>5.0</td>\n",
       "    </tr>\n",
       "  </tbody>\n",
       "</table>\n",
       "</div>"
      ],
      "text/plain": [
       "     A    B\n",
       "1  2.0  2.0\n",
       "3  4.0  4.0\n",
       "4  5.0  5.0"
      ]
     },
     "execution_count": 6,
     "metadata": {},
     "output_type": "execute_result"
    }
   ],
   "source": [
    "cleaned_data.head()"
   ]
  },
  {
   "cell_type": "markdown",
   "id": "2bb389db",
   "metadata": {},
   "source": [
    "### Duplikate finden und entfernen\n",
    "Manchmal enthalten Daten Duplikate oder redundante Informationen, die die\n",
    "Analyse beeintrachtigen konnen."
   ]
  },
  {
   "cell_type": "code",
   "execution_count": 7,
   "id": "8d3a3f2c",
   "metadata": {},
   "outputs": [],
   "source": [
    "# Annahme : Ein DataFrame mit Duplikaten\n",
    "data = pd. DataFrame ({ 'A': [1, 2, 2, 4, 5], 'B': ['a', 'b', 'b', 'c', 'd']})"
   ]
  },
  {
   "cell_type": "code",
   "execution_count": 10,
   "id": "104eab59",
   "metadata": {},
   "outputs": [
    {
     "data": {
      "text/html": [
       "<div>\n",
       "<style scoped>\n",
       "    .dataframe tbody tr th:only-of-type {\n",
       "        vertical-align: middle;\n",
       "    }\n",
       "\n",
       "    .dataframe tbody tr th {\n",
       "        vertical-align: top;\n",
       "    }\n",
       "\n",
       "    .dataframe thead th {\n",
       "        text-align: right;\n",
       "    }\n",
       "</style>\n",
       "<table border=\"1\" class=\"dataframe\">\n",
       "  <thead>\n",
       "    <tr style=\"text-align: right;\">\n",
       "      <th></th>\n",
       "      <th>A</th>\n",
       "      <th>B</th>\n",
       "    </tr>\n",
       "  </thead>\n",
       "  <tbody>\n",
       "    <tr>\n",
       "      <th>2</th>\n",
       "      <td>2</td>\n",
       "      <td>b</td>\n",
       "    </tr>\n",
       "  </tbody>\n",
       "</table>\n",
       "</div>"
      ],
      "text/plain": [
       "   A  B\n",
       "2  2  b"
      ]
     },
     "execution_count": 10,
     "metadata": {},
     "output_type": "execute_result"
    }
   ],
   "source": [
    "# Finden von Duplikaten basierend auf den Spalten 'A' und 'B'\n",
    "duplicate_rows = data[data.duplicated(['A', 'B'])]\n",
    "duplicate_rows"
   ]
  },
  {
   "cell_type": "code",
   "execution_count": 12,
   "id": "a66cf1f5",
   "metadata": {},
   "outputs": [
    {
     "data": {
      "text/html": [
       "<div>\n",
       "<style scoped>\n",
       "    .dataframe tbody tr th:only-of-type {\n",
       "        vertical-align: middle;\n",
       "    }\n",
       "\n",
       "    .dataframe tbody tr th {\n",
       "        vertical-align: top;\n",
       "    }\n",
       "\n",
       "    .dataframe thead th {\n",
       "        text-align: right;\n",
       "    }\n",
       "</style>\n",
       "<table border=\"1\" class=\"dataframe\">\n",
       "  <thead>\n",
       "    <tr style=\"text-align: right;\">\n",
       "      <th></th>\n",
       "      <th>A</th>\n",
       "      <th>B</th>\n",
       "    </tr>\n",
       "  </thead>\n",
       "  <tbody>\n",
       "    <tr>\n",
       "      <th>0</th>\n",
       "      <td>1</td>\n",
       "      <td>a</td>\n",
       "    </tr>\n",
       "    <tr>\n",
       "      <th>1</th>\n",
       "      <td>2</td>\n",
       "      <td>b</td>\n",
       "    </tr>\n",
       "    <tr>\n",
       "      <th>3</th>\n",
       "      <td>4</td>\n",
       "      <td>c</td>\n",
       "    </tr>\n",
       "    <tr>\n",
       "      <th>4</th>\n",
       "      <td>5</td>\n",
       "      <td>d</td>\n",
       "    </tr>\n",
       "  </tbody>\n",
       "</table>\n",
       "</div>"
      ],
      "text/plain": [
       "   A  B\n",
       "0  1  a\n",
       "1  2  b\n",
       "3  4  c\n",
       "4  5  d"
      ]
     },
     "execution_count": 12,
     "metadata": {},
     "output_type": "execute_result"
    }
   ],
   "source": [
    "# Entfernen von Duplikaten\n",
    "cleaned_data = data.drop_duplicates(subset=['A', 'B'])\n",
    "cleaned_data"
   ]
  },
  {
   "cell_type": "markdown",
   "id": "0116e262",
   "metadata": {},
   "source": [
    "### Fehlende Werte behandeln\n",
    "Fehlende Werte in Daten konnen dazu fuhren, dass Analysen fehlerhaft oder\n",
    "inkonsistent werden."
   ]
  },
  {
   "cell_type": "code",
   "execution_count": 13,
   "id": "e6cbaad6",
   "metadata": {},
   "outputs": [],
   "source": [
    "# Annahme : Ein DataFrame mit fehlenden Werten\n",
    "data = pd. DataFrame ({ 'A': [1, 2, None , 4, 5], 'B': [None , 2, 3, None , 5]})"
   ]
  },
  {
   "cell_type": "code",
   "execution_count": 14,
   "id": "3d1fb4ff",
   "metadata": {},
   "outputs": [],
   "source": [
    "# Ersetzen der fehlenden Werte durch einen Standardwert von Null\n",
    "cleaned_data = data.fillna(0)"
   ]
  },
  {
   "cell_type": "code",
   "execution_count": 15,
   "id": "c96c9527",
   "metadata": {},
   "outputs": [
    {
     "data": {
      "text/html": [
       "<div>\n",
       "<style scoped>\n",
       "    .dataframe tbody tr th:only-of-type {\n",
       "        vertical-align: middle;\n",
       "    }\n",
       "\n",
       "    .dataframe tbody tr th {\n",
       "        vertical-align: top;\n",
       "    }\n",
       "\n",
       "    .dataframe thead th {\n",
       "        text-align: right;\n",
       "    }\n",
       "</style>\n",
       "<table border=\"1\" class=\"dataframe\">\n",
       "  <thead>\n",
       "    <tr style=\"text-align: right;\">\n",
       "      <th></th>\n",
       "      <th>A</th>\n",
       "      <th>B</th>\n",
       "    </tr>\n",
       "  </thead>\n",
       "  <tbody>\n",
       "    <tr>\n",
       "      <th>0</th>\n",
       "      <td>1.0</td>\n",
       "      <td>0.0</td>\n",
       "    </tr>\n",
       "    <tr>\n",
       "      <th>1</th>\n",
       "      <td>2.0</td>\n",
       "      <td>2.0</td>\n",
       "    </tr>\n",
       "    <tr>\n",
       "      <th>2</th>\n",
       "      <td>0.0</td>\n",
       "      <td>3.0</td>\n",
       "    </tr>\n",
       "    <tr>\n",
       "      <th>3</th>\n",
       "      <td>4.0</td>\n",
       "      <td>0.0</td>\n",
       "    </tr>\n",
       "    <tr>\n",
       "      <th>4</th>\n",
       "      <td>5.0</td>\n",
       "      <td>5.0</td>\n",
       "    </tr>\n",
       "  </tbody>\n",
       "</table>\n",
       "</div>"
      ],
      "text/plain": [
       "     A    B\n",
       "0  1.0  0.0\n",
       "1  2.0  2.0\n",
       "2  0.0  3.0\n",
       "3  4.0  0.0\n",
       "4  5.0  5.0"
      ]
     },
     "execution_count": 15,
     "metadata": {},
     "output_type": "execute_result"
    }
   ],
   "source": [
    "cleaned_data"
   ]
  },
  {
   "cell_type": "markdown",
   "id": "eb9b9ac8",
   "metadata": {},
   "source": [
    "### Feature Engineering: Verbesserung der Daten\n",
    "Feature Engineering bezieht sich auf den Prozess der Scha\u000b",
    "ung neuer, relevanter\n",
    "Features aus den vorhandenen Daten."
   ]
  },
  {
   "cell_type": "code",
   "execution_count": 19,
   "id": "ac111ffd",
   "metadata": {},
   "outputs": [],
   "source": [
    "from sklearn.preprocessing import MinMaxScaler\n",
    "\n",
    "data = pd.DataFrame({'value1': [2, 4, 6, 8],\n",
    "                     'value2': [10 , 20, 30, 40]})"
   ]
  },
  {
   "cell_type": "code",
   "execution_count": 17,
   "id": "83b63307",
   "metadata": {},
   "outputs": [],
   "source": [
    "scaler = MinMaxScaler()\n",
    "normalized_data = scaler.fit_transform(data)"
   ]
  },
  {
   "cell_type": "code",
   "execution_count": 20,
   "id": "d4290f5b",
   "metadata": {},
   "outputs": [
    {
     "data": {
      "text/plain": [
       "array([[0.        , 0.        ],\n",
       "       [0.33333333, 0.33333333],\n",
       "       [0.66666667, 0.66666667],\n",
       "       [1.        , 1.        ]])"
      ]
     },
     "execution_count": 20,
     "metadata": {},
     "output_type": "execute_result"
    }
   ],
   "source": [
    "normalized_data"
   ]
  },
  {
   "cell_type": "markdown",
   "id": "3bcd5c7f",
   "metadata": {},
   "source": [
    "### Datenintegration: Zusammenführen von Daten\n",
    "Datenintegration bezieht sich auf den Prozess des Zusammenführens von Daten aus\n",
    "verschiedenen Quellen."
   ]
  },
  {
   "cell_type": "code",
   "execution_count": 23,
   "id": "0199c95b",
   "metadata": {},
   "outputs": [],
   "source": [
    "# Annahme : Zwei DataFrames 'df1 ' und 'df2 ' mit gemeinsamer Spalte 'ID '\n",
    "df1 = pd. DataFrame ({ 'ID': [1, 2, 3], 'Value1 ': ['A', 'B', 'C']})\n",
    "df2 = pd. DataFrame ({ 'ID': [2, 3, 4], 'Value2 ': ['X', 'Y', 'Z']})"
   ]
  },
  {
   "cell_type": "code",
   "execution_count": 24,
   "id": "802182d4",
   "metadata": {},
   "outputs": [],
   "source": [
    "# Zusammenführens der Dataframes basierend auf 'ID'\n",
    "merged_data = pd.merge(df1, df2, on='ID', how='inner')"
   ]
  },
  {
   "cell_type": "code",
   "execution_count": 25,
   "id": "fb554ccf",
   "metadata": {},
   "outputs": [
    {
     "data": {
      "text/html": [
       "<div>\n",
       "<style scoped>\n",
       "    .dataframe tbody tr th:only-of-type {\n",
       "        vertical-align: middle;\n",
       "    }\n",
       "\n",
       "    .dataframe tbody tr th {\n",
       "        vertical-align: top;\n",
       "    }\n",
       "\n",
       "    .dataframe thead th {\n",
       "        text-align: right;\n",
       "    }\n",
       "</style>\n",
       "<table border=\"1\" class=\"dataframe\">\n",
       "  <thead>\n",
       "    <tr style=\"text-align: right;\">\n",
       "      <th></th>\n",
       "      <th>ID</th>\n",
       "      <th>Value1</th>\n",
       "      <th>Value2</th>\n",
       "    </tr>\n",
       "  </thead>\n",
       "  <tbody>\n",
       "    <tr>\n",
       "      <th>0</th>\n",
       "      <td>2</td>\n",
       "      <td>B</td>\n",
       "      <td>X</td>\n",
       "    </tr>\n",
       "    <tr>\n",
       "      <th>1</th>\n",
       "      <td>3</td>\n",
       "      <td>C</td>\n",
       "      <td>Y</td>\n",
       "    </tr>\n",
       "  </tbody>\n",
       "</table>\n",
       "</div>"
      ],
      "text/plain": [
       "   ID Value1  Value2 \n",
       "0   2       B       X\n",
       "1   3       C       Y"
      ]
     },
     "execution_count": 25,
     "metadata": {},
     "output_type": "execute_result"
    }
   ],
   "source": [
    "merged_data"
   ]
  },
  {
   "cell_type": "markdown",
   "id": "4ac2470d",
   "metadata": {},
   "source": [
    "### Hausaufgabe 2"
   ]
  },
  {
   "cell_type": "code",
   "execution_count": 26,
   "id": "925e4e41",
   "metadata": {},
   "outputs": [],
   "source": [
    "def load_dataset(file_path):\n",
    "    df = pd.read_csv(file_path)\n",
    "    return df\n",
    "    \n",
    "def remove_duplicates(df):\n",
    "    cleaned_df = df.drop_duplicates()\n",
    "    return cleaned_df\n",
    "    \n",
    "def handle_missing_values(df):\n",
    "    # Für numerische Werte\n",
    "    numerical_columns = df.select_dtypes(include=['number'])\n",
    "    df.loc[:, numerical_columns.columns] = numerical_columns.fillna(numerical_columns.mean())\n",
    "    \n",
    "    # Für kategorische Werte\n",
    "    categorical_columns = df.select_dtypes(exclude=['number'])\n",
    "    for col in categorical_columns:\n",
    "        df[col].fillna(df[col].mode())\n",
    "    \n",
    "    return df\n",
    "    \n",
    "def save_cleaned_dataset(df, output_file):\n",
    "    df.to_csv(output_file, index=False)\n",
    "    \n",
    "def main():\n",
    "    df = load_dataset(\"daten.csv\")\n",
    "    cleaned_data = remove_duplicates(df)\n",
    "    cleaned_data = handle_missing_values(cleaned_data)\n",
    "    save_cleaned_dataset(cleaned_data, \"bereinigte_daten.csv\")"
   ]
  },
  {
   "cell_type": "code",
   "execution_count": 27,
   "id": "cd64ef0b",
   "metadata": {},
   "outputs": [
    {
     "name": "stdout",
     "output_type": "stream",
     "text": [
      "Originaler Datensatz:\n",
      "      Name  Alter\n",
      "0    Alice   25.0\n",
      "1      Bob    NaN\n",
      "2  Charlie   30.0\n",
      "3    David   28.0\n",
      "4      Eva    NaN\n",
      "5   Frieda   30.0\n",
      "6     Gina   24.0\n",
      "\n",
      "DataFrame mit Mittelwert-Imputation:\n",
      "      Name  Alter\n",
      "0    Alice   25.0\n",
      "1      Bob   27.4\n",
      "2  Charlie   30.0\n",
      "3    David   28.0\n",
      "4      Eva   27.4\n",
      "5   Frieda   30.0\n",
      "6     Gina   24.0\n",
      "\n",
      "DataFrame mit Median-Imputation:\n",
      "      Name  Alter\n",
      "0    Alice   25.0\n",
      "1      Bob   28.0\n",
      "2  Charlie   30.0\n",
      "3    David   28.0\n",
      "4      Eva   28.0\n",
      "5   Frieda   30.0\n",
      "6     Gina   24.0\n",
      "\n",
      "DataFrame mit Modus-Imputation:\n",
      "      Name  Alter\n",
      "0    Alice   25.0\n",
      "1      Bob   30.0\n",
      "2  Charlie   30.0\n",
      "3    David   28.0\n",
      "4      Eva   30.0\n",
      "5   Frieda   30.0\n",
      "6     Gina   24.0\n"
     ]
    }
   ],
   "source": [
    "data = pd.DataFrame({'Name': ['Alice', 'Bob', 'Charlie', 'David', 'Eva', 'Frieda', 'Gina'],\n",
    "                     'Alter': [25, np.nan, 30, 28, np.nan, 30, 24]})\n",
    "\n",
    "print(\"Originaler Datensatz:\")\n",
    "print(data)\n",
    "\n",
    "# Deine Aufgaben:\n",
    "\n",
    "# 1. Imputiere die fehlenden Werte in der Spalte \"Alter\" mit der Mittelwert-Imputation und erstelle einen neuen DataFrame (df_mean).\n",
    "df_mean = data.copy()\n",
    "df_mean[\"Alter\"] = df_mean[\"Alter\"].fillna(df_mean[\"Alter\"].mean())\n",
    "print(\"\\nDataFrame mit Mittelwert-Imputation:\")\n",
    "print(df_mean)\n",
    "\n",
    "# 2. Imputiere die fehlenden Werte in der Spalte \"Alter\" mit der Median-Imputation und erstelle einen neuen DataFrame (df_median).\n",
    "df_median = data.copy()\n",
    "df_median[\"Alter\"] = df_median[\"Alter\"].fillna(df_median[\"Alter\"].median())\n",
    "print(\"\\nDataFrame mit Median-Imputation:\")\n",
    "print(df_median)\n",
    "\n",
    "# 3. Imputiere die fehlenden Werte in der Spalte \"Alter\" mit der Modus-Imputation und erstelle einen neuen DataFrame (df_mode).\n",
    "df_mode = data.copy()\n",
    "df_mode[\"Alter\"] = df_mode[\"Alter\"].fillna(df_mode[\"Alter\"].mode()[0])\n",
    "print(\"\\nDataFrame mit Modus-Imputation:\")\n",
    "print(df_mode)\n",
    "\n",
    "# Tipp: Verwende die Pandas-Funktionen zur Imputation."
   ]
  }
 ],
 "metadata": {
  "kernelspec": {
   "display_name": "Python 3 (ipykernel)",
   "language": "python",
   "name": "python3"
  },
  "language_info": {
   "codemirror_mode": {
    "name": "ipython",
    "version": 3
   },
   "file_extension": ".py",
   "mimetype": "text/x-python",
   "name": "python",
   "nbconvert_exporter": "python",
   "pygments_lexer": "ipython3",
   "version": "3.10.13"
  }
 },
 "nbformat": 4,
 "nbformat_minor": 5
}
