{
 "cells": [
  {
   "cell_type": "code",
   "execution_count": 2,
   "id": "39063eab",
   "metadata": {},
   "outputs": [],
   "source": [
    "from bs4 import BeautifulSoup\n",
    "import requests\n",
    "import pandas as pd"
   ]
  },
  {
   "cell_type": "code",
   "execution_count": 21,
   "id": "10aceed7",
   "metadata": {},
   "outputs": [],
   "source": [
    "def scrape_listings(url):\n",
    "    # Open the url\n",
    "    r = requests.get(url)\n",
    "    # Parse the html\n",
    "    soup = BeautifulSoup(r.text, 'html.parser')\n",
    "    \n",
    "    # Find all div-elements with class \n",
    "    listings = soup.find_all('div', {'class': 'ListItem_wrapper__J_a_C'})\n",
    "    # Iterate over the listing\n",
    "    rows = []\n",
    "    for element in listings:\n",
    "        row = {}\n",
    "        # Find the a-element (model of car)\n",
    "        headers = element.find('a', {'class': 'ListItem_title__znV2I ListItem_title_new_design__lYiAv Link_link__pjU1l'})\n",
    "        model = headers.find('h2')\n",
    "        span_elements = model.find_all('span')\n",
    "        for span_element in span_elements:\n",
    "            span_element.decompose() \n",
    "        row['Marke'] = \"Audi\"\n",
    "        row['Model'] = model.text.replace(\"Audi\", \"\")\n",
    "        \n",
    "        # Find all details about car\n",
    "        details = element.find('div', {'class': 'VehicleDetailTable_container__mUUbY'})\n",
    "        for detail in details:\n",
    "            text = detail.text\n",
    "            if(text.endswith('km')):\n",
    "                row['Kilometerstand'] = text\n",
    "            elif(text == \"Automatik\" or text == \"Schaltgetriebe\"):\n",
    "                row['Antrieb'] = text\n",
    "            elif(len(text.split('/')) == 2):\n",
    "                row['Baujahr'] = text\n",
    "        \n",
    "        rows.append(row)\n",
    "        \n",
    "    return rows"
   ]
  },
  {
   "cell_type": "code",
   "execution_count": 4,
   "id": "ea63a857",
   "metadata": {},
   "outputs": [],
   "source": [
    "r = requests.get(\"https://www.autoscout24.de/lst/audi?atype=C&cy=D&damaged_listing=exclude&desc=0&fregfrom=2010&fregto=2023&ocs_listing=include&powertype=kw&search_id=sphlth5ci4&sort=standard&source=homepage_search-mask&ustate=N%2CU\")\n",
    "# Parse the html\n",
    "soup = BeautifulSoup(r.text, 'html.parser')\n",
    "    \n",
    "# Find all div-elements with class \n",
    "listings = soup.find_all('div', {'class': 'ListItem_wrapper__J_a_C'})"
   ]
  },
  {
   "cell_type": "code",
   "execution_count": 19,
   "id": "b5929f35",
   "metadata": {},
   "outputs": [
    {
     "name": "stdout",
     "output_type": "stream",
     "text": [
      "Audi A3 \n",
      "Audi A4 \n",
      "Audi A6 allroad \n",
      "Audi SQ5 \n",
      "Audi A5 \n",
      "Audi A3 \n",
      "Audi A5 \n",
      "Audi A5 \n",
      "Audi A1 \n",
      "Audi A8 \n",
      "Audi A4 \n",
      "Audi R8 \n",
      "Audi S5 \n",
      "Audi A4 \n",
      "Audi Q7 \n",
      "Audi A3 \n",
      "Audi A4 \n",
      "Audi S7 \n"
     ]
    }
   ],
   "source": [
    "for element in listings:\n",
    "    headers = element.find('a', {'class': 'ListItem_title__znV2I ListItem_title_new_design__lYiAv Link_link__pjU1l'})\n",
    "    model = headers.find('h2')\n",
    "    span_elements = model.find_all('span')\n",
    "    for span_element in span_elements:\n",
    "        span_element.decompose()\n",
    "    print(model.text)\n",
    "    "
   ]
  },
  {
   "cell_type": "code",
   "execution_count": 22,
   "id": "a954fbc5",
   "metadata": {},
   "outputs": [],
   "source": [
    "df = scrape_listings(\"https://www.autoscout24.de/lst/audi?atype=C&cy=D&damaged_listing=exclude&desc=0&fregfrom=2010&fregto=2023&ocs_listing=include&powertype=kw&search_id=sphlth5ci4&sort=standard&source=homepage_search-mask&ustate=N%2CU!\")"
   ]
  },
  {
   "cell_type": "code",
   "execution_count": 23,
   "id": "120ba9e7",
   "metadata": {},
   "outputs": [
    {
     "data": {
      "text/html": [
       "<div>\n",
       "<style scoped>\n",
       "    .dataframe tbody tr th:only-of-type {\n",
       "        vertical-align: middle;\n",
       "    }\n",
       "\n",
       "    .dataframe tbody tr th {\n",
       "        vertical-align: top;\n",
       "    }\n",
       "\n",
       "    .dataframe thead th {\n",
       "        text-align: right;\n",
       "    }\n",
       "</style>\n",
       "<table border=\"1\" class=\"dataframe\">\n",
       "  <thead>\n",
       "    <tr style=\"text-align: right;\">\n",
       "      <th></th>\n",
       "      <th>Marke</th>\n",
       "      <th>Model</th>\n",
       "      <th>Kilometerstand</th>\n",
       "      <th>Antrieb</th>\n",
       "      <th>Baujahr</th>\n",
       "    </tr>\n",
       "  </thead>\n",
       "  <tbody>\n",
       "    <tr>\n",
       "      <th>0</th>\n",
       "      <td>Audi</td>\n",
       "      <td>A5</td>\n",
       "      <td>117.981 km</td>\n",
       "      <td>Schaltgetriebe</td>\n",
       "      <td>05/2013</td>\n",
       "    </tr>\n",
       "    <tr>\n",
       "      <th>1</th>\n",
       "      <td>Audi</td>\n",
       "      <td>A3</td>\n",
       "      <td>145.300 km</td>\n",
       "      <td>Automatik</td>\n",
       "      <td>03/2010</td>\n",
       "    </tr>\n",
       "    <tr>\n",
       "      <th>2</th>\n",
       "      <td>Audi</td>\n",
       "      <td>A4</td>\n",
       "      <td>252.333 km</td>\n",
       "      <td>Automatik</td>\n",
       "      <td>09/2011</td>\n",
       "    </tr>\n",
       "    <tr>\n",
       "      <th>3</th>\n",
       "      <td>Audi</td>\n",
       "      <td>A6 allroad</td>\n",
       "      <td>221.000 km</td>\n",
       "      <td>Automatik</td>\n",
       "      <td>06/2014</td>\n",
       "    </tr>\n",
       "    <tr>\n",
       "      <th>4</th>\n",
       "      <td>Audi</td>\n",
       "      <td>A5</td>\n",
       "      <td>118.237 km</td>\n",
       "      <td>Automatik</td>\n",
       "      <td>03/2014</td>\n",
       "    </tr>\n",
       "  </tbody>\n",
       "</table>\n",
       "</div>"
      ],
      "text/plain": [
       "  Marke         Model Kilometerstand         Antrieb  Baujahr\n",
       "0  Audi           A5      117.981 km  Schaltgetriebe  05/2013\n",
       "1  Audi           A3      145.300 km       Automatik  03/2010\n",
       "2  Audi           A4      252.333 km       Automatik  09/2011\n",
       "3  Audi   A6 allroad      221.000 km       Automatik  06/2014\n",
       "4  Audi           A5      118.237 km       Automatik  03/2014"
      ]
     },
     "execution_count": 23,
     "metadata": {},
     "output_type": "execute_result"
    }
   ],
   "source": [
    "audi_df = pd.DataFrame(df)\n",
    "audi_df.head()"
   ]
  }
 ],
 "metadata": {
  "kernelspec": {
   "display_name": "Python 3 (ipykernel)",
   "language": "python",
   "name": "python3"
  },
  "language_info": {
   "codemirror_mode": {
    "name": "ipython",
    "version": 3
   },
   "file_extension": ".py",
   "mimetype": "text/x-python",
   "name": "python",
   "nbconvert_exporter": "python",
   "pygments_lexer": "ipython3",
   "version": "3.10.13"
  }
 },
 "nbformat": 4,
 "nbformat_minor": 5
}
