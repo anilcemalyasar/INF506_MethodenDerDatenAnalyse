{
 "cells": [
  {
   "cell_type": "code",
   "execution_count": 1,
   "id": "92ae2127",
   "metadata": {},
   "outputs": [
    {
     "name": "stdout",
     "output_type": "stream",
     "text": [
      "Welcome! Please enter your name: Anıl\n",
      "Welcome to our program Anıl\n"
     ]
    }
   ],
   "source": [
    "name = input(\"Welcome! Please enter your name: \")\n",
    "print(f\"Welcome to our program {name}\")"
   ]
  },
  {
   "cell_type": "code",
   "execution_count": 7,
   "id": "5f9b1375",
   "metadata": {},
   "outputs": [
    {
     "data": {
      "text/plain": [
       "60"
      ]
     },
     "execution_count": 7,
     "metadata": {},
     "output_type": "execute_result"
    }
   ],
   "source": [
    "def multiply(a, b):\n",
    "    return a * b\n",
    "\n",
    "# Testen die Funktionen mit verschiedenen Eingabewerten\n",
    "# multiply(10, 5)\n",
    "multiply(20,3)"
   ]
  },
  {
   "cell_type": "code",
   "execution_count": 9,
   "id": "acb828c5",
   "metadata": {},
   "outputs": [
    {
     "name": "stdout",
     "output_type": "stream",
     "text": [
      "Please enter integer numbers: 5\n",
      "Please enter integer numbers: 10\n",
      "Please enter integer numbers: 15\n",
      "Please enter integer numbers: 20\n",
      "Please enter integer numbers: 25\n",
      "75\n"
     ]
    }
   ],
   "source": [
    "#Schreiben Sie ein Programm, welches eine Liste von 5 Zahlen speichert und die Summe dieser Zahlen berechnet.\n",
    "numbers = list()\n",
    "for i in range(5):\n",
    "    numbers.append(int(input(\"Please enter integer numbers: \")))\n",
    "total = 0\n",
    "for num in numbers:\n",
    "    total += num\n",
    "\n",
    "print(total)"
   ]
  },
  {
   "cell_type": "code",
   "execution_count": 36,
   "id": "d7d2588c",
   "metadata": {},
   "outputs": [
    {
     "name": "stdout",
     "output_type": "stream",
     "text": [
      "Anıl  is palindrome?  False\n",
      "Reittier  is palindrome?  True\n"
     ]
    }
   ],
   "source": [
    "# Schreiben Sie eine Funktion, welche einen String als Parameter erhält und überprüft, ob dieser String ein Palindrom ist. \n",
    "# Ein Palindrom ist ein Wort, das vorwärts und rückwärts gelesen gleich ist (z.B. \"Anna\" oder \"Reittier\"). Die Funktion soll True zurückgeben, falls der String ein Palindrom ist; ansonsten soll sie False zurückgeben.\n",
    "def isPalindrome(word):\n",
    "    word = word.lower()\n",
    "    for i in range(int(len(word)/2)):\n",
    "        if(word[i] != word[len(word)-i-1]):\n",
    "            return False\n",
    "    return True\n",
    "\n",
    "word1 = \"Anıl\"\n",
    "word2 = \"Reittier\"\n",
    "print(word1, \" is palindrome? \" , isPalindrome(word1))\n",
    "print(word2, \" is palindrome? \" , isPalindrome(word2))"
   ]
  },
  {
   "cell_type": "code",
   "execution_count": 37,
   "id": "8300fff4",
   "metadata": {},
   "outputs": [
    {
     "name": "stdout",
     "output_type": "stream",
     "text": [
      "Please enter the radius of circle: 5\n",
      "Area of the circle with the radius 5 is 31.41592653589793\n",
      "Circumference of the circle with the radius 5 is 78.53981633974483\n"
     ]
    }
   ],
   "source": [
    "from math import pi\n",
    "radius = int(input(\"Please enter the radius of circle: \"))\n",
    "# Area formula = 2πr \n",
    "umfang = 2 * pi * radius\n",
    "# Circumference formula = πr²\n",
    "flächeninhalt = pi * (radius ** 2)\n",
    "print(\"Area of the circle with the radius {} is {}\".format(radius, umfang))\n",
    "print(\"Circumference of the circle with the radius {} is {}\".format(radius, flächeninhalt))"
   ]
  },
  {
   "cell_type": "markdown",
   "id": "354d0712",
   "metadata": {},
   "source": [
    "## Funktionen"
   ]
  },
  {
   "cell_type": "code",
   "execution_count": 41,
   "id": "3a5ac032",
   "metadata": {},
   "outputs": [
    {
     "data": {
      "text/plain": [
       "'linA'"
      ]
     },
     "execution_count": 41,
     "metadata": {},
     "output_type": "execute_result"
    }
   ],
   "source": [
    "#Schreiben Sie eine Funktion, welche einen String als Parameter erhält und die umgekehrte Reihenfolge der Buchstaben in diesem String zurückgibt. Verwenden Sie dazu eine Schleife.\n",
    "def reverse(string):\n",
    "    reversed_string = \"\"\n",
    "    for i in range(len(string)-1,-1, -1):\n",
    "        reversed_string += string[i]\n",
    "    return reversed_string\n",
    "\n",
    "reverse(\"Anil\")"
   ]
  },
  {
   "cell_type": "code",
   "execution_count": 43,
   "id": "e033d3a0",
   "metadata": {},
   "outputs": [
    {
     "name": "stdout",
     "output_type": "stream",
     "text": [
      "Even Numbers:  [2, 4, 6, 8, 10]\n",
      "Odd Numbers:  [1, 3, 5, 7, 9]\n"
     ]
    }
   ],
   "source": [
    "#Schreiben Sie eine Funktion, welche eine Liste von Zahlen als Parameter erhält und zwei Listen zurückgibt: Eine Liste mit allen geraden Zahlen in der Eingabeliste und eine Liste mit allen ungeraden Zahlen in der Eingabeliste. Verwenden Sie dazu eine Schleife.\n",
    "def split_numbers(intList):\n",
    "    even_numbers = []\n",
    "    odd_numbers = []\n",
    "    for i in intList:\n",
    "        if(i % 2 == 0):\n",
    "            even_numbers.append(i)\n",
    "        else:\n",
    "            odd_numbers.append(i)\n",
    "    return even_numbers, odd_numbers\n",
    "\n",
    "even_numbers, odd_numbers = split_numbers([1,2,3,4,5,6,7,8,9,10])\n",
    "print(\"Even Numbers: \", even_numbers)\n",
    "print(\"Odd Numbers: \", odd_numbers)"
   ]
  },
  {
   "cell_type": "code",
   "execution_count": 50,
   "id": "8cb2250e",
   "metadata": {},
   "outputs": [
    {
     "data": {
      "text/plain": [
       "True"
      ]
     },
     "execution_count": 50,
     "metadata": {},
     "output_type": "execute_result"
    }
   ],
   "source": [
    "# Schreiben Sie eine Funktion, welche eine Zahl als Parameter erhält und True zurückgibt, falls diese Zahl eine Primzahl ist; ansonsten soll sie False zurückgeben.\n",
    "def isPrim(number):\n",
    "    for i in range(2, number):\n",
    "        if(number % i == 0):\n",
    "            return False\n",
    "    return True\n",
    "\n",
    "isPrim(23)"
   ]
  }
 ],
 "metadata": {
  "kernelspec": {
   "display_name": "Python 3 (ipykernel)",
   "language": "python",
   "name": "python3"
  },
  "language_info": {
   "codemirror_mode": {
    "name": "ipython",
    "version": 3
   },
   "file_extension": ".py",
   "mimetype": "text/x-python",
   "name": "python",
   "nbconvert_exporter": "python",
   "pygments_lexer": "ipython3",
   "version": "3.10.9"
  }
 },
 "nbformat": 4,
 "nbformat_minor": 5
}
