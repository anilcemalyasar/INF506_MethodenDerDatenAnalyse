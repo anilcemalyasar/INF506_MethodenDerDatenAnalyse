{
 "cells": [
  {
   "cell_type": "markdown",
   "id": "7d1f2aaa",
   "metadata": {},
   "source": [
    "- Schreiben Sie eine Funktion load_dataset(file_path), die den bereitgestellten Datensatz von der angegebenen Datei file_path in ein Pandas DataFrame lädt und dieses DataFrame zurückgibt."
   ]
  },
  {
   "cell_type": "code",
   "execution_count": 1,
   "id": "151e6bff",
   "metadata": {},
   "outputs": [],
   "source": [
    "import pandas as pd"
   ]
  },
  {
   "cell_type": "code",
   "execution_count": 25,
   "id": "02b2d091",
   "metadata": {},
   "outputs": [
    {
     "data": {
      "text/plain": [
       "0    70.0\n",
       "Name: Gewicht, dtype: float64"
      ]
     },
     "execution_count": 25,
     "metadata": {},
     "output_type": "execute_result"
    }
   ],
   "source": [
    "df = pd.read_csv(\"daten.csv\")\n",
    "df.head()\n",
    "df.drop_duplicates()\n",
    "\n",
    "df[\"Gewicht\"].mode()"
   ]
  },
  {
   "cell_type": "code",
   "execution_count": 2,
   "id": "46b5f4be",
   "metadata": {},
   "outputs": [],
   "source": [
    "def load_dataset(file_path):\n",
    "    df = pd.read_csv(file_path)\n",
    "    return df"
   ]
  },
  {
   "cell_type": "markdown",
   "id": "682e9005",
   "metadata": {},
   "source": [
    "- Schreiben Sie eine Funktion remove_duplicates(df), die Duplikate im übergebenen DataFrame df erkennt und entfernt. Die Funktion soll das bereinigte DataFrame zurückgeben."
   ]
  },
  {
   "cell_type": "code",
   "execution_count": 14,
   "id": "37f768cd",
   "metadata": {},
   "outputs": [],
   "source": [
    "def remove_duplicates(df):\n",
    "    cleaned_df = df.drop_duplicates()\n",
    "    return cleaned_df"
   ]
  },
  {
   "cell_type": "markdown",
   "id": "47e1c4f4",
   "metadata": {},
   "source": [
    "- Schreiben Sie eine Funktion handle_missing_values(df), die fehlende Werte im übergebenen DataFrame df behandelt. Füllen Sie fehlende numerische Werte mit dem Durchschnitt der jeweiligen Spalte und fehlende kategorische Werte mit dem am häufigsten vorkommenden Wert in der jeweiligen Spalte. Die Funktion soll das bereinigte DataFrame zurückgeben."
   ]
  },
  {
   "cell_type": "code",
   "execution_count": 26,
   "id": "2bcda5e7",
   "metadata": {},
   "outputs": [],
   "source": [
    "def handle_missing_values(df):\n",
    "    # Für numerische Werte\n",
    "    numerical_columns = df.select_dtypes(include=['number'])\n",
    "    df[numerical_columns.columns] = numerical_columns.fillna(numerical_columns.mean())\n",
    "    \n",
    "    # Für kategorische Werte\n",
    "    categorical_columns = df.select_dtypes(exclude=['number'])\n",
    "    for col in categorical_columns:\n",
    "        df[col].fillna(df[col].mode())\n",
    "    \n",
    "    return df"
   ]
  },
  {
   "cell_type": "markdown",
   "id": "6570c3cd",
   "metadata": {},
   "source": [
    "- Schreiben Sie eine Funktion save_cleaned_dataset(df, output_file), die das bereinigte DataFrame df in eine neue CSV-Datei mit dem angegebenen Dateinamen output_file speichert."
   ]
  },
  {
   "cell_type": "code",
   "execution_count": 31,
   "id": "37714c11",
   "metadata": {},
   "outputs": [],
   "source": [
    "def save_cleaned_dataset(df, output_file):\n",
    "    df.to_csv(output_file, index=False)"
   ]
  },
  {
   "cell_type": "markdown",
   "id": "abb1579e",
   "metadata": {},
   "source": [
    " - Schreiben Sie eine Hauptfunktion main(), die alle oben genannten Funktionen aufruft und die Datenbereinigung durchführt. Die Hauptfunktion sollte den bereinigten Datensatz in eine CSV-Datei mit dem Namen bereinigte_daten.csv speichern. Die Daten sollen aus der Datei daten.csv im selbem Verzeichnis geladen werden."
   ]
  },
  {
   "cell_type": "code",
   "execution_count": 28,
   "id": "8067735e",
   "metadata": {},
   "outputs": [],
   "source": [
    "def main():\n",
    "    df = load_dataset(\"daten.csv\")\n",
    "    cleaned_data = remove_duplicates(df)\n",
    "    cleaned_data = handle_missing_values(cleaned_data)\n",
    "    save_cleaned_dataset(cleaned_data, \"bereinigte_daten.csv\")"
   ]
  },
  {
   "cell_type": "code",
   "execution_count": 32,
   "id": "b548e2a3",
   "metadata": {},
   "outputs": [
    {
     "name": "stderr",
     "output_type": "stream",
     "text": [
      "C:\\Users\\msi\\AppData\\Local\\Temp\\ipykernel_10576\\143672738.py:4: SettingWithCopyWarning: \n",
      "A value is trying to be set on a copy of a slice from a DataFrame.\n",
      "Try using .loc[row_indexer,col_indexer] = value instead\n",
      "\n",
      "See the caveats in the documentation: https://pandas.pydata.org/pandas-docs/stable/user_guide/indexing.html#returning-a-view-versus-a-copy\n",
      "  df[numerical_columns.columns] = numerical_columns.fillna(numerical_columns.mean())\n"
     ]
    }
   ],
   "source": [
    "main()"
   ]
  }
 ],
 "metadata": {
  "kernelspec": {
   "display_name": "Python 3 (ipykernel)",
   "language": "python",
   "name": "python3"
  },
  "language_info": {
   "codemirror_mode": {
    "name": "ipython",
    "version": 3
   },
   "file_extension": ".py",
   "mimetype": "text/x-python",
   "name": "python",
   "nbconvert_exporter": "python",
   "pygments_lexer": "ipython3",
   "version": "3.10.9"
  }
 },
 "nbformat": 4,
 "nbformat_minor": 5
}
