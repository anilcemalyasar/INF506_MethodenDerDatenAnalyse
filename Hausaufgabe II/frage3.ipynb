{
 "cells": [
  {
   "cell_type": "code",
   "execution_count": 1,
   "id": "fcee6649",
   "metadata": {},
   "outputs": [
    {
     "name": "stdout",
     "output_type": "stream",
     "text": [
      "Originaler Datensatz:\n",
      "      Name  Alter\n",
      "0    Alice   25.0\n",
      "1      Bob    NaN\n",
      "2  Charlie   30.0\n",
      "3    David   28.0\n",
      "4      Eva    NaN\n",
      "5   Frieda   30.0\n",
      "6     Gina   24.0\n",
      "\n",
      "DataFrame mit Mittelwert-Imputation:\n",
      "      Name  Alter\n",
      "0    Alice   25.0\n",
      "1      Bob   27.4\n",
      "2  Charlie   30.0\n",
      "3    David   28.0\n",
      "4      Eva   27.4\n",
      "5   Frieda   30.0\n",
      "6     Gina   24.0\n"
     ]
    }
   ],
   "source": [
    "import pandas as pd\n",
    "import numpy as np\n",
    "\n",
    "data = pd.DataFrame({'Name': ['Alice', 'Bob', 'Charlie', 'David', 'Eva', 'Frieda', 'Gina'],\n",
    "                     'Alter': [25, np.nan, 30, 28, np.nan, 30, 24]})\n",
    "\n",
    "print(\"Originaler Datensatz:\")\n",
    "print(data)\n",
    "\n",
    "# Deine Aufgaben:\n",
    "\n",
    "# 1. Imputiere die fehlenden Werte in der Spalte \"Alter\" mit der Mittelwert-Imputation und erstelle einen neuen DataFrame (df_mean).\n",
    "df_mean = data.copy()\n",
    "df_mean[\"Alter\"] = df_mean[\"Alter\"].fillna(df_mean[\"Alter\"].mean())\n",
    "print(\"\\nDataFrame mit Mittelwert-Imputation:\")\n",
    "print(df_mean)"
   ]
  },
  {
   "cell_type": "markdown",
   "id": "d714801b",
   "metadata": {},
   "source": [
    "##### 2. Imputiere die fehlenden Werte in der Spalte \"Alter\" mit der Median-Imputation und erstelle einen neuen DataFrame (df_median)."
   ]
  },
  {
   "cell_type": "code",
   "execution_count": 2,
   "id": "7c7d775f",
   "metadata": {},
   "outputs": [
    {
     "name": "stdout",
     "output_type": "stream",
     "text": [
      "\n",
      "DataFrame mit Median-Imputation:\n",
      "      Name  Alter\n",
      "0    Alice   25.0\n",
      "1      Bob   27.4\n",
      "2  Charlie   30.0\n",
      "3    David   28.0\n",
      "4      Eva   27.4\n",
      "5   Frieda   30.0\n",
      "6     Gina   24.0\n"
     ]
    }
   ],
   "source": [
    "df_median = data.copy()\n",
    "df_median[\"Alter\"] = df_median[\"Alter\"].fillna(df_mean[\"Alter\"].median())\n",
    "print(\"\\nDataFrame mit Median-Imputation:\")\n",
    "print(df_median)"
   ]
  },
  {
   "cell_type": "code",
   "execution_count": 5,
   "id": "007b5a40",
   "metadata": {},
   "outputs": [
    {
     "data": {
      "text/plain": [
       "0    30.0\n",
       "Name: Alter, dtype: float64"
      ]
     },
     "execution_count": 5,
     "metadata": {},
     "output_type": "execute_result"
    }
   ],
   "source": [
    "data[\"Alter\"].mode()"
   ]
  },
  {
   "cell_type": "code",
   "execution_count": 8,
   "id": "87bae998",
   "metadata": {},
   "outputs": [
    {
     "name": "stdout",
     "output_type": "stream",
     "text": [
      "\n",
      "DataFrame mit Modus-Imputation:\n",
      "      Name  Alter\n",
      "0    Alice   25.0\n",
      "1      Bob   30.0\n",
      "2  Charlie   30.0\n",
      "3    David   28.0\n",
      "4      Eva   30.0\n",
      "5   Frieda   30.0\n",
      "6     Gina   24.0\n"
     ]
    }
   ],
   "source": [
    "df_mode = data.copy()\n",
    "df_mode[\"Alter\"] = df_mode[\"Alter\"].fillna(df_mode[\"Alter\"].mode()[0])\n",
    "print(\"\\nDataFrame mit Modus-Imputation:\")\n",
    "print(df_mode)"
   ]
  }
 ],
 "metadata": {
  "kernelspec": {
   "display_name": "Python 3 (ipykernel)",
   "language": "python",
   "name": "python3"
  },
  "language_info": {
   "codemirror_mode": {
    "name": "ipython",
    "version": 3
   },
   "file_extension": ".py",
   "mimetype": "text/x-python",
   "name": "python",
   "nbconvert_exporter": "python",
   "pygments_lexer": "ipython3",
   "version": "3.10.9"
  }
 },
 "nbformat": 4,
 "nbformat_minor": 5
}
